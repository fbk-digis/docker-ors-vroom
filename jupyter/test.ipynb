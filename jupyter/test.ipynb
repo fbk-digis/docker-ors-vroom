{
 "cells": [
  {
   "cell_type": "markdown",
   "metadata": {},
   "source": [
    "# OpenRouteService testing by Python Bindings\n",
    "\n",
    "https://github.com/GIScience/openrouteservice-py"
   ]
  },
  {
   "cell_type": "code",
   "execution_count": 1,
   "metadata": {},
   "outputs": [],
   "source": [
    "import openrouteservice as ors\n",
    "import folium\n",
    "import json\n",
    "from pprint import pprint\n",
    "\n",
    "povo_center = [46.0682, 11.1551]\n",
    "povo_zoom = 16\n",
    "povo_start = []\n",
    "\n",
    "mezzo_center = [46.2147, 11.1065]\n",
    "mezzo_zoom = 15\n",
    "mezzo_start = [46.2170,11.1066]\n",
    "\n",
    "#contains two features MultiPoint\n",
    "povo_points = json.load(open('./data/povo.geojson'))['features']\n",
    "mezzo_points = json.load(open('./data/mezzocorona.geojson'))['features']\n",
    "\n",
    "center = mezzo_center\n",
    "zoom = mezzo_zoom\n",
    "points = mezzo_points\n"
   ]
  },
  {
   "cell_type": "markdown",
   "metadata": {},
   "source": [
    "# OpenRouteService Optimization Routing examples\n",
    "\n",
    "This notebook is just a small reference on how to use `openrouteservice` package to request:\n",
    "- [directions](https://openrouteservice.org/dev)\n",
    "- [Route Optimization](https://openrouteservice.org/dev/#/api-docs/optimization/post)\n",
    "\n",
    "Others examples: https://github.com/GIScience/openrouteservice-py/blob/master/test/test_optimization.py"
   ]
  },
  {
   "cell_type": "code",
   "execution_count": 2,
   "metadata": {},
   "outputs": [
    {
     "data": {
      "text/html": [
       "<div style=\"width:100%;\"><div style=\"position:relative;width:100%;height:0;padding-bottom:60%;\"><iframe src=\"about:blank\" style=\"position:absolute;width:100%;height:100%;left:0;top:0;border:none !important;\" data-html=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 onload=\"this.contentDocument.open();this.contentDocument.write(atob(this.getAttribute('data-html')));this.contentDocument.close();\" allowfullscreen webkitallowfullscreen mozallowfullscreen></iframe></div></div>"
      ],
      "text/plain": [
       "<folium.folium.Map at 0x7fb236ab0a10>"
      ]
     },
     "execution_count": 2,
     "metadata": {},
     "output_type": "execute_result"
    }
   ],
   "source": [
    "M = folium.Map(location=center, tiles='OpenStreetMap', zoom_start=zoom)\n",
    "\n",
    "client = ors.Client(base_url='http://ors:8080/ors', key='')\n",
    "\n",
    "points = {\n",
    "    'A': points[0]['geometry']['coordinates'],\n",
    "    'B': points[1]['geometry']['coordinates']\n",
    "}\n",
    "\n",
    "routeA = client.directions(\n",
    "    coordinates = points['A'],\n",
    "    profile = 'driving-car',\n",
    "    format = 'geojson',\n",
    "    validate = False\n",
    ")\n",
    "\n",
    "routeB = client.directions(\n",
    "    coordinates = points['B'],\n",
    "    profile = 'driving-car',\n",
    "    format = 'geojson',\n",
    "    validate = False\n",
    ")\n",
    "\n",
    "polyA = [list(reversed(coord)) for coord in routeA['features'][0]['geometry']['coordinates']]\n",
    "polyB = [list(reversed(coord)) for coord in routeB['features'][0]['geometry']['coordinates']]\n",
    "\n",
    "folium.PolyLine(polyA, color='red').add_to(M)\n",
    "folium.PolyLine(polyB, color='blue').add_to(M)\n",
    "#pprint(points['A'])\n",
    "\n",
    "for c in points['A']:\n",
    "    m = list(reversed(c))\n",
    "    folium.Marker(m).add_to(M)\n",
    "\n",
    "for c in points['B']:\n",
    "    m = list(reversed(c))\n",
    "    folium.Marker(m).add_to(M)\n",
    "\n",
    "M"
   ]
  },
  {
   "cell_type": "markdown",
   "metadata": {},
   "source": [
    "## VRP Vehicle Routing Problem "
   ]
  },
  {
   "cell_type": "markdown",
   "metadata": {},
   "source": [
    "Optimize job scheduling for multiple vehicles.\n",
    "The next example makes more use of the power of the ORS optimization endpoint. Two vehicles are assigned to 6 jobs, where the capacity constraints are such that each vehicle can only carry out 3 jobs on its route."
   ]
  },
  {
   "cell_type": "code",
   "execution_count": 3,
   "metadata": {},
   "outputs": [
    {
     "data": {
      "text/html": [
       "<div style=\"width:100%;\"><div style=\"position:relative;width:100%;height:0;padding-bottom:60%;\"><iframe src=\"about:blank\" style=\"position:absolute;width:100%;height:100%;left:0;top:0;border:none !important;\" data-html=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 onload=\"this.contentDocument.open();this.contentDocument.write(atob(this.getAttribute('data-html')));this.contentDocument.close();\" allowfullscreen webkitallowfullscreen mozallowfullscreen></iframe></div></div>"
      ],
      "text/plain": [
       "<folium.folium.Map at 0x7fb236ac4510>"
      ]
     },
     "execution_count": 3,
     "metadata": {},
     "output_type": "execute_result"
    }
   ],
   "source": [
    "m = folium.Map(location=center, tiles='OpenStreetMap', zoom_start=zoom)\n",
    "\n",
    "#punto di carico uguale al punto di scarico/parcheggio\n",
    "start = mezzo_start\n",
    "end = start\n",
    "vehicle_locs = [start, end]\n",
    "\n",
    "# veicoli aventi la stessa posizione di parteee\n",
    "vehicles = []\n",
    "for idx, cc in enumerate(vehicle_locs):\n",
    "    loc = list(reversed(cc))\n",
    "    vehicles.append(ors.optimization.Vehicle(\n",
    "        id = idx,\n",
    "        profile = 'driving-hgv',\n",
    "        start = loc,\n",
    "        end = loc,\n",
    "        capacity = [3]  # Limit capacity so only 3 jobs can be taken by each vehicle\n",
    "    ))\n",
    "    \n",
    "    folium.Marker(location=cc, icon=folium.Icon(icon='truck', prefix='fa')).add_to(m)\n",
    "\n",
    "\n",
    "#punti di raccolta\n",
    "job_locs = points['A'] + points['B']\n",
    "\n",
    "jobs = []\n",
    "for idx, cc in enumerate(job_locs):\n",
    "    loc = list(reversed(cc))\n",
    "    jobs.append(ors.optimization.Job(\n",
    "        id = idx,\n",
    "        location = cc,\n",
    "        amount = [1] # capacity in vehicle\n",
    "    ))\n",
    "    folium.Marker(location=loc, icon=folium.Icon(icon='archive', prefix='fa', color='green')).add_to(m)\n",
    "m"
   ]
  },
  {
   "cell_type": "code",
   "execution_count": 6,
   "metadata": {
    "scrolled": false
   },
   "outputs": [
    {
     "ename": "HTTPError",
     "evalue": "HTTP Error: 404",
     "output_type": "error",
     "traceback": [
      "\u001b[0;31m---------------------------------------------------------------------------\u001b[0m",
      "\u001b[0;31mJSONDecodeError\u001b[0m                           Traceback (most recent call last)",
      "\u001b[0;32m/opt/conda/lib/python3.7/site-packages/openrouteservice/client.py\u001b[0m in \u001b[0;36m_get_body\u001b[0;34m(response)\u001b[0m\n\u001b[1;32m    231\u001b[0m         \u001b[0;32mtry\u001b[0m\u001b[0;34m:\u001b[0m\u001b[0;34m\u001b[0m\u001b[0;34m\u001b[0m\u001b[0m\n\u001b[0;32m--> 232\u001b[0;31m             \u001b[0mbody\u001b[0m \u001b[0;34m=\u001b[0m \u001b[0mresponse\u001b[0m\u001b[0;34m.\u001b[0m\u001b[0mjson\u001b[0m\u001b[0;34m(\u001b[0m\u001b[0;34m)\u001b[0m\u001b[0;34m\u001b[0m\u001b[0;34m\u001b[0m\u001b[0m\n\u001b[0m\u001b[1;32m    233\u001b[0m         \u001b[0;32mexcept\u001b[0m \u001b[0mjson\u001b[0m\u001b[0;34m.\u001b[0m\u001b[0mJSONDecodeError\u001b[0m\u001b[0;34m:\u001b[0m\u001b[0;34m\u001b[0m\u001b[0;34m\u001b[0m\u001b[0m\n",
      "\u001b[0;32m/opt/conda/lib/python3.7/site-packages/requests/models.py\u001b[0m in \u001b[0;36mjson\u001b[0;34m(self, **kwargs)\u001b[0m\n\u001b[1;32m    896\u001b[0m                     \u001b[0;32mpass\u001b[0m\u001b[0;34m\u001b[0m\u001b[0;34m\u001b[0m\u001b[0m\n\u001b[0;32m--> 897\u001b[0;31m         \u001b[0;32mreturn\u001b[0m \u001b[0mcomplexjson\u001b[0m\u001b[0;34m.\u001b[0m\u001b[0mloads\u001b[0m\u001b[0;34m(\u001b[0m\u001b[0mself\u001b[0m\u001b[0;34m.\u001b[0m\u001b[0mtext\u001b[0m\u001b[0;34m,\u001b[0m \u001b[0;34m**\u001b[0m\u001b[0mkwargs\u001b[0m\u001b[0;34m)\u001b[0m\u001b[0;34m\u001b[0m\u001b[0;34m\u001b[0m\u001b[0m\n\u001b[0m\u001b[1;32m    898\u001b[0m \u001b[0;34m\u001b[0m\u001b[0m\n",
      "\u001b[0;32m/opt/conda/lib/python3.7/json/__init__.py\u001b[0m in \u001b[0;36mloads\u001b[0;34m(s, encoding, cls, object_hook, parse_float, parse_int, parse_constant, object_pairs_hook, **kw)\u001b[0m\n\u001b[1;32m    347\u001b[0m             parse_constant is None and object_pairs_hook is None and not kw):\n\u001b[0;32m--> 348\u001b[0;31m         \u001b[0;32mreturn\u001b[0m \u001b[0m_default_decoder\u001b[0m\u001b[0;34m.\u001b[0m\u001b[0mdecode\u001b[0m\u001b[0;34m(\u001b[0m\u001b[0ms\u001b[0m\u001b[0;34m)\u001b[0m\u001b[0;34m\u001b[0m\u001b[0;34m\u001b[0m\u001b[0m\n\u001b[0m\u001b[1;32m    349\u001b[0m     \u001b[0;32mif\u001b[0m \u001b[0mcls\u001b[0m \u001b[0;32mis\u001b[0m \u001b[0;32mNone\u001b[0m\u001b[0;34m:\u001b[0m\u001b[0;34m\u001b[0m\u001b[0;34m\u001b[0m\u001b[0m\n",
      "\u001b[0;32m/opt/conda/lib/python3.7/json/decoder.py\u001b[0m in \u001b[0;36mdecode\u001b[0;34m(self, s, _w)\u001b[0m\n\u001b[1;32m    336\u001b[0m         \"\"\"\n\u001b[0;32m--> 337\u001b[0;31m         \u001b[0mobj\u001b[0m\u001b[0;34m,\u001b[0m \u001b[0mend\u001b[0m \u001b[0;34m=\u001b[0m \u001b[0mself\u001b[0m\u001b[0;34m.\u001b[0m\u001b[0mraw_decode\u001b[0m\u001b[0;34m(\u001b[0m\u001b[0ms\u001b[0m\u001b[0;34m,\u001b[0m \u001b[0midx\u001b[0m\u001b[0;34m=\u001b[0m\u001b[0m_w\u001b[0m\u001b[0;34m(\u001b[0m\u001b[0ms\u001b[0m\u001b[0;34m,\u001b[0m \u001b[0;36m0\u001b[0m\u001b[0;34m)\u001b[0m\u001b[0;34m.\u001b[0m\u001b[0mend\u001b[0m\u001b[0;34m(\u001b[0m\u001b[0;34m)\u001b[0m\u001b[0;34m)\u001b[0m\u001b[0;34m\u001b[0m\u001b[0;34m\u001b[0m\u001b[0m\n\u001b[0m\u001b[1;32m    338\u001b[0m         \u001b[0mend\u001b[0m \u001b[0;34m=\u001b[0m \u001b[0m_w\u001b[0m\u001b[0;34m(\u001b[0m\u001b[0ms\u001b[0m\u001b[0;34m,\u001b[0m \u001b[0mend\u001b[0m\u001b[0;34m)\u001b[0m\u001b[0;34m.\u001b[0m\u001b[0mend\u001b[0m\u001b[0;34m(\u001b[0m\u001b[0;34m)\u001b[0m\u001b[0;34m\u001b[0m\u001b[0;34m\u001b[0m\u001b[0m\n",
      "\u001b[0;32m/opt/conda/lib/python3.7/json/decoder.py\u001b[0m in \u001b[0;36mraw_decode\u001b[0;34m(self, s, idx)\u001b[0m\n\u001b[1;32m    354\u001b[0m         \u001b[0;32mexcept\u001b[0m \u001b[0mStopIteration\u001b[0m \u001b[0;32mas\u001b[0m \u001b[0merr\u001b[0m\u001b[0;34m:\u001b[0m\u001b[0;34m\u001b[0m\u001b[0;34m\u001b[0m\u001b[0m\n\u001b[0;32m--> 355\u001b[0;31m             \u001b[0;32mraise\u001b[0m \u001b[0mJSONDecodeError\u001b[0m\u001b[0;34m(\u001b[0m\u001b[0;34m\"Expecting value\"\u001b[0m\u001b[0;34m,\u001b[0m \u001b[0ms\u001b[0m\u001b[0;34m,\u001b[0m \u001b[0merr\u001b[0m\u001b[0;34m.\u001b[0m\u001b[0mvalue\u001b[0m\u001b[0;34m)\u001b[0m \u001b[0;32mfrom\u001b[0m \u001b[0;32mNone\u001b[0m\u001b[0;34m\u001b[0m\u001b[0;34m\u001b[0m\u001b[0m\n\u001b[0m\u001b[1;32m    356\u001b[0m         \u001b[0;32mreturn\u001b[0m \u001b[0mobj\u001b[0m\u001b[0;34m,\u001b[0m \u001b[0mend\u001b[0m\u001b[0;34m\u001b[0m\u001b[0;34m\u001b[0m\u001b[0m\n",
      "\u001b[0;31mJSONDecodeError\u001b[0m: Expecting value: line 1 column 1 (char 0)",
      "\nDuring handling of the above exception, another exception occurred:\n",
      "\u001b[0;31mHTTPError\u001b[0m                                 Traceback (most recent call last)",
      "\u001b[0;32m<ipython-input-6-ad6800a0614a>\u001b[0m in \u001b[0;36m<module>\u001b[0;34m\u001b[0m\n\u001b[1;32m      4\u001b[0m     \u001b[0mjobs\u001b[0m \u001b[0;34m=\u001b[0m \u001b[0mjobs\u001b[0m\u001b[0;34m,\u001b[0m\u001b[0;34m\u001b[0m\u001b[0;34m\u001b[0m\u001b[0m\n\u001b[1;32m      5\u001b[0m     \u001b[0mvehicles\u001b[0m \u001b[0;34m=\u001b[0m \u001b[0mvehicles\u001b[0m\u001b[0;34m,\u001b[0m\u001b[0;34m\u001b[0m\u001b[0;34m\u001b[0m\u001b[0m\n\u001b[0;32m----> 6\u001b[0;31m     \u001b[0mgeometry\u001b[0m \u001b[0;34m=\u001b[0m \u001b[0;32mTrue\u001b[0m\u001b[0;34m\u001b[0m\u001b[0;34m\u001b[0m\u001b[0m\n\u001b[0m\u001b[1;32m      7\u001b[0m )\n\u001b[1;32m      8\u001b[0m \u001b[0;34m\u001b[0m\u001b[0m\n",
      "\u001b[0;32m/opt/conda/lib/python3.7/site-packages/openrouteservice/client.py\u001b[0m in \u001b[0;36mwrapper\u001b[0;34m(*args, **kwargs)\u001b[0m\n\u001b[1;32m    295\u001b[0m     \u001b[0;32mdef\u001b[0m \u001b[0mwrapper\u001b[0m\u001b[0;34m(\u001b[0m\u001b[0;34m*\u001b[0m\u001b[0margs\u001b[0m\u001b[0;34m,\u001b[0m \u001b[0;34m**\u001b[0m\u001b[0mkwargs\u001b[0m\u001b[0;34m)\u001b[0m\u001b[0;34m:\u001b[0m\u001b[0;34m\u001b[0m\u001b[0;34m\u001b[0m\u001b[0m\n\u001b[1;32m    296\u001b[0m         \u001b[0margs\u001b[0m\u001b[0;34m[\u001b[0m\u001b[0;36m0\u001b[0m\u001b[0;34m]\u001b[0m\u001b[0;34m.\u001b[0m\u001b[0m_extra_params\u001b[0m \u001b[0;34m=\u001b[0m \u001b[0mkwargs\u001b[0m\u001b[0;34m.\u001b[0m\u001b[0mpop\u001b[0m\u001b[0;34m(\u001b[0m\u001b[0;34m\"extra_params\"\u001b[0m\u001b[0;34m,\u001b[0m \u001b[0;32mNone\u001b[0m\u001b[0;34m)\u001b[0m\u001b[0;34m\u001b[0m\u001b[0;34m\u001b[0m\u001b[0m\n\u001b[0;32m--> 297\u001b[0;31m         \u001b[0mresult\u001b[0m \u001b[0;34m=\u001b[0m \u001b[0mfunc\u001b[0m\u001b[0;34m(\u001b[0m\u001b[0;34m*\u001b[0m\u001b[0margs\u001b[0m\u001b[0;34m,\u001b[0m \u001b[0;34m**\u001b[0m\u001b[0mkwargs\u001b[0m\u001b[0;34m)\u001b[0m\u001b[0;34m\u001b[0m\u001b[0;34m\u001b[0m\u001b[0m\n\u001b[0m\u001b[1;32m    298\u001b[0m         \u001b[0;32mtry\u001b[0m\u001b[0;34m:\u001b[0m\u001b[0;34m\u001b[0m\u001b[0;34m\u001b[0m\u001b[0m\n\u001b[1;32m    299\u001b[0m             \u001b[0;32mdel\u001b[0m \u001b[0margs\u001b[0m\u001b[0;34m[\u001b[0m\u001b[0;36m0\u001b[0m\u001b[0;34m]\u001b[0m\u001b[0;34m.\u001b[0m\u001b[0m_extra_params\u001b[0m\u001b[0;34m\u001b[0m\u001b[0;34m\u001b[0m\u001b[0m\n",
      "\u001b[0;32m/opt/conda/lib/python3.7/site-packages/openrouteservice/optimization.py\u001b[0m in \u001b[0;36moptimization\u001b[0;34m(client, jobs, vehicles, matrix, geometry, dry_run)\u001b[0m\n\u001b[1;32m     72\u001b[0m         \u001b[0mparams\u001b[0m\u001b[0;34m[\u001b[0m\u001b[0;34m'matrix'\u001b[0m\u001b[0;34m]\u001b[0m \u001b[0;34m=\u001b[0m \u001b[0mmatrix\u001b[0m\u001b[0;34m\u001b[0m\u001b[0;34m\u001b[0m\u001b[0m\n\u001b[1;32m     73\u001b[0m \u001b[0;34m\u001b[0m\u001b[0m\n\u001b[0;32m---> 74\u001b[0;31m     \u001b[0;32mreturn\u001b[0m \u001b[0mclient\u001b[0m\u001b[0;34m.\u001b[0m\u001b[0mrequest\u001b[0m\u001b[0;34m(\u001b[0m\u001b[0;34m\"/optimization\"\u001b[0m\u001b[0;34m,\u001b[0m \u001b[0;34m{\u001b[0m\u001b[0;34m}\u001b[0m\u001b[0;34m,\u001b[0m \u001b[0mpost_json\u001b[0m\u001b[0;34m=\u001b[0m\u001b[0mparams\u001b[0m\u001b[0;34m,\u001b[0m \u001b[0mdry_run\u001b[0m\u001b[0;34m=\u001b[0m\u001b[0mdry_run\u001b[0m\u001b[0;34m)\u001b[0m\u001b[0;34m\u001b[0m\u001b[0;34m\u001b[0m\u001b[0m\n\u001b[0m\u001b[1;32m     75\u001b[0m \u001b[0;34m\u001b[0m\u001b[0m\n\u001b[1;32m     76\u001b[0m \u001b[0;34m\u001b[0m\u001b[0m\n",
      "\u001b[0;32m/opt/conda/lib/python3.7/site-packages/openrouteservice/client.py\u001b[0m in \u001b[0;36mrequest\u001b[0;34m(self, url, get_params, first_request_time, retry_counter, requests_kwargs, post_json, dry_run)\u001b[0m\n\u001b[1;32m    202\u001b[0m \u001b[0;34m\u001b[0m\u001b[0m\n\u001b[1;32m    203\u001b[0m         \u001b[0;32mtry\u001b[0m\u001b[0;34m:\u001b[0m\u001b[0;34m\u001b[0m\u001b[0;34m\u001b[0m\u001b[0m\n\u001b[0;32m--> 204\u001b[0;31m             \u001b[0mresult\u001b[0m \u001b[0;34m=\u001b[0m \u001b[0mself\u001b[0m\u001b[0;34m.\u001b[0m\u001b[0m_get_body\u001b[0m\u001b[0;34m(\u001b[0m\u001b[0mresponse\u001b[0m\u001b[0;34m)\u001b[0m\u001b[0;34m\u001b[0m\u001b[0;34m\u001b[0m\u001b[0m\n\u001b[0m\u001b[1;32m    205\u001b[0m \u001b[0;34m\u001b[0m\u001b[0m\n\u001b[1;32m    206\u001b[0m             \u001b[0;32mreturn\u001b[0m \u001b[0mresult\u001b[0m\u001b[0;34m\u001b[0m\u001b[0;34m\u001b[0m\u001b[0m\n",
      "\u001b[0;32m/opt/conda/lib/python3.7/site-packages/openrouteservice/client.py\u001b[0m in \u001b[0;36m_get_body\u001b[0;34m(response)\u001b[0m\n\u001b[1;32m    232\u001b[0m             \u001b[0mbody\u001b[0m \u001b[0;34m=\u001b[0m \u001b[0mresponse\u001b[0m\u001b[0;34m.\u001b[0m\u001b[0mjson\u001b[0m\u001b[0;34m(\u001b[0m\u001b[0;34m)\u001b[0m\u001b[0;34m\u001b[0m\u001b[0;34m\u001b[0m\u001b[0m\n\u001b[1;32m    233\u001b[0m         \u001b[0;32mexcept\u001b[0m \u001b[0mjson\u001b[0m\u001b[0;34m.\u001b[0m\u001b[0mJSONDecodeError\u001b[0m\u001b[0;34m:\u001b[0m\u001b[0;34m\u001b[0m\u001b[0;34m\u001b[0m\u001b[0m\n\u001b[0;32m--> 234\u001b[0;31m             \u001b[0;32mraise\u001b[0m \u001b[0mexceptions\u001b[0m\u001b[0;34m.\u001b[0m\u001b[0mHTTPError\u001b[0m\u001b[0;34m(\u001b[0m\u001b[0mstatus_code\u001b[0m\u001b[0;34m)\u001b[0m\u001b[0;34m\u001b[0m\u001b[0;34m\u001b[0m\u001b[0m\n\u001b[0m\u001b[1;32m    235\u001b[0m \u001b[0;34m\u001b[0m\u001b[0m\n\u001b[1;32m    236\u001b[0m         \u001b[0;32mif\u001b[0m \u001b[0mstatus_code\u001b[0m \u001b[0;34m==\u001b[0m \u001b[0;36m429\u001b[0m\u001b[0;34m:\u001b[0m\u001b[0;34m\u001b[0m\u001b[0;34m\u001b[0m\u001b[0m\n",
      "\u001b[0;31mHTTPError\u001b[0m: HTTP Error: 404"
     ]
    }
   ],
   "source": [
    "clientVrp = ors.Client(base_url='http://vroom:8081/', key='')\n",
    "\n",
    "optimized = clientVrp.optimization(\n",
    "    jobs = jobs,\n",
    "    vehicles = vehicles,\n",
    "    geometry = True\n",
    ")\n",
    "\n",
    "#optimized['routes'][0]\n",
    "\n",
    "folium.PolyLine(\n",
    "    locations=[list(reversed(coords)) for coords in ors.convert.decode_polyline(optimized['routes'][0]['geometry'])['coordinates']],\n",
    "    color='red'\n",
    ").add_to(m)\n",
    "\n",
    "folium.PolyLine(\n",
    "    locations=[list(reversed(coords)) for coords in ors.convert.decode_polyline(optimized['routes'][1]['geometry'])['coordinates']],\n",
    "    color='orange'\n",
    ").add_to(m)\n",
    "\n",
    "m"
   ]
  },
  {
   "cell_type": "code",
   "execution_count": null,
   "metadata": {},
   "outputs": [],
   "source": []
  }
 ],
 "metadata": {
  "kernelspec": {
   "display_name": "Python 3",
   "language": "python",
   "name": "python3"
  },
  "language_info": {
   "codemirror_mode": {
    "name": "ipython",
    "version": 3
   },
   "file_extension": ".py",
   "mimetype": "text/x-python",
   "name": "python",
   "nbconvert_exporter": "python",
   "pygments_lexer": "ipython3",
   "version": "3.7.4"
  }
 },
 "nbformat": 4,
 "nbformat_minor": 2
}
