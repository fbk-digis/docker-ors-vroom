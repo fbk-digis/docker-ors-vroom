{
 "cells": [
  {
   "cell_type": "markdown",
   "metadata": {},
   "source": [
    "# OpenRouteService python bindings\n",
    "\n",
    "https://github.com/GIScience/openrouteservice-py"
   ]
  },
  {
   "cell_type": "code",
   "execution_count": 3,
   "metadata": {},
   "outputs": [],
   "source": [
    "import openrouteservice as ors\n",
    "import folium\n",
    "import json\n",
    "import random\n",
    "from pprint import pprint\n",
    "\n",
    "url_ors = 'http://ors:8080/ors'  #istanze locale ROUTING ENGINE \n",
    "\n",
    "url_vroom = 'http://vroom:8081'  #instanza loale VROOM\n",
    "\n",
    "# DATI json posizione jobs (Bidoni)\n",
    "pointsA = json.load(open('./data/mezzolombardo.geojson'))['features'] #4 points\n",
    "pointsB = json.load(open('./data/mezzocorona.geojson'))['features'] #6 points\n",
    "\n",
    "center = [46.2147, 11.1065]\n",
    "zoom = 15\n",
    "\n",
    "# POSIZIONI PARTENZA DEI VEICOLI (Furgoni)\n",
    "point_start = [46.2170,11.1066]\n",
    "# POSIZIONE ARRIVO DEI VEICOLI\n",
    "point_end = [point_start[0], point_start[1]]\n"
   ]
  },
  {
   "cell_type": "markdown",
   "metadata": {},
   "source": [
    "# OpenRouteService Simple TSP Routing Problem ( without VROOM )\n",
    "\n",
    "example of one vehicle for two groups of bins all full, without considering the capacity of vehicle.\n",
    "\n",
    "- [API Directions](https://openrouteservice.org/dev/#/api-docs/v2/directions/{profile}/post)\n",
    "- [Preferences examples](https://github.com/GIScience/openrouteservice-docs#examples)\n",
    "- [more examples](https://github.com/GIScience/openrouteservice-py/blob/master/examples/basic_example.ipynb)"
   ]
  },
  {
   "cell_type": "code",
   "execution_count": 4,
   "metadata": {
    "scrolled": false
   },
   "outputs": [
    {
     "ename": "ApiError",
     "evalue": "500 ({'error': {'code': 2099, 'message': 'Unable to get an appropriate route profile for RoutePreference = driving-hgv'}, 'info': {'engine': {'version': '6.2.0', 'build_date': '2020-07-22T14:04:49Z'}, 'timestamp': 1595426893802}})",
     "output_type": "error",
     "traceback": [
      "\u001b[0;31m---------------------------------------------------------------------------\u001b[0m",
      "\u001b[0;31mApiError\u001b[0m                                  Traceback (most recent call last)",
      "\u001b[0;32m<ipython-input-4-972d7837a557>\u001b[0m in \u001b[0;36m<module>\u001b[0;34m\u001b[0m\n\u001b[1;32m     17\u001b[0m     \u001b[0mpreference\u001b[0m \u001b[0;34m=\u001b[0m \u001b[0;34m'fastest'\u001b[0m\u001b[0;34m,\u001b[0m\u001b[0;31m#shortest\u001b[0m\u001b[0;34m\u001b[0m\u001b[0;34m\u001b[0m\u001b[0m\n\u001b[1;32m     18\u001b[0m     \u001b[0;31m#restrictions =  ... width,height(in metri), weight(in tonnellate)\u001b[0m\u001b[0;34m\u001b[0m\u001b[0;34m\u001b[0m\u001b[0;34m\u001b[0m\u001b[0m\n\u001b[0;32m---> 19\u001b[0;31m     \u001b[0mvalidate\u001b[0m \u001b[0;34m=\u001b[0m \u001b[0;32mFalse\u001b[0m\u001b[0;34m\u001b[0m\u001b[0;34m\u001b[0m\u001b[0m\n\u001b[0m\u001b[1;32m     20\u001b[0m )\n\u001b[1;32m     21\u001b[0m \u001b[0;34m\u001b[0m\u001b[0m\n",
      "\u001b[0;32m/opt/conda/lib/python3.7/site-packages/openrouteservice/client.py\u001b[0m in \u001b[0;36mwrapper\u001b[0;34m(*args, **kwargs)\u001b[0m\n\u001b[1;32m    295\u001b[0m     \u001b[0;32mdef\u001b[0m \u001b[0mwrapper\u001b[0m\u001b[0;34m(\u001b[0m\u001b[0;34m*\u001b[0m\u001b[0margs\u001b[0m\u001b[0;34m,\u001b[0m \u001b[0;34m**\u001b[0m\u001b[0mkwargs\u001b[0m\u001b[0;34m)\u001b[0m\u001b[0;34m:\u001b[0m\u001b[0;34m\u001b[0m\u001b[0;34m\u001b[0m\u001b[0m\n\u001b[1;32m    296\u001b[0m         \u001b[0margs\u001b[0m\u001b[0;34m[\u001b[0m\u001b[0;36m0\u001b[0m\u001b[0;34m]\u001b[0m\u001b[0;34m.\u001b[0m\u001b[0m_extra_params\u001b[0m \u001b[0;34m=\u001b[0m \u001b[0mkwargs\u001b[0m\u001b[0;34m.\u001b[0m\u001b[0mpop\u001b[0m\u001b[0;34m(\u001b[0m\u001b[0;34m\"extra_params\"\u001b[0m\u001b[0;34m,\u001b[0m \u001b[0;32mNone\u001b[0m\u001b[0;34m)\u001b[0m\u001b[0;34m\u001b[0m\u001b[0;34m\u001b[0m\u001b[0m\n\u001b[0;32m--> 297\u001b[0;31m         \u001b[0mresult\u001b[0m \u001b[0;34m=\u001b[0m \u001b[0mfunc\u001b[0m\u001b[0;34m(\u001b[0m\u001b[0;34m*\u001b[0m\u001b[0margs\u001b[0m\u001b[0;34m,\u001b[0m \u001b[0;34m**\u001b[0m\u001b[0mkwargs\u001b[0m\u001b[0;34m)\u001b[0m\u001b[0;34m\u001b[0m\u001b[0;34m\u001b[0m\u001b[0m\n\u001b[0m\u001b[1;32m    298\u001b[0m         \u001b[0;32mtry\u001b[0m\u001b[0;34m:\u001b[0m\u001b[0;34m\u001b[0m\u001b[0;34m\u001b[0m\u001b[0m\n\u001b[1;32m    299\u001b[0m             \u001b[0;32mdel\u001b[0m \u001b[0margs\u001b[0m\u001b[0;34m[\u001b[0m\u001b[0;36m0\u001b[0m\u001b[0;34m]\u001b[0m\u001b[0;34m.\u001b[0m\u001b[0m_extra_params\u001b[0m\u001b[0;34m\u001b[0m\u001b[0;34m\u001b[0m\u001b[0m\n",
      "\u001b[0;32m/opt/conda/lib/python3.7/site-packages/openrouteservice/directions.py\u001b[0m in \u001b[0;36mdirections\u001b[0;34m(client, coordinates, profile, format_out, format, preference, units, language, geometry, geometry_simplify, instructions, instructions_format, roundabout_exits, attributes, maneuvers, radiuses, bearings, continue_straight, elevation, extra_info, suppress_warnings, optimized, optimize_waypoints, options, validate, dry_run)\u001b[0m\n\u001b[1;32m    260\u001b[0m         \u001b[0mparams\u001b[0m\u001b[0;34m[\u001b[0m\u001b[0;34m'options'\u001b[0m\u001b[0;34m]\u001b[0m \u001b[0;34m=\u001b[0m \u001b[0moptions\u001b[0m\u001b[0;34m\u001b[0m\u001b[0;34m\u001b[0m\u001b[0m\n\u001b[1;32m    261\u001b[0m \u001b[0;34m\u001b[0m\u001b[0m\n\u001b[0;32m--> 262\u001b[0;31m     \u001b[0;32mreturn\u001b[0m \u001b[0mclient\u001b[0m\u001b[0;34m.\u001b[0m\u001b[0mrequest\u001b[0m\u001b[0;34m(\u001b[0m\u001b[0;34m\"/v2/directions/\"\u001b[0m \u001b[0;34m+\u001b[0m \u001b[0mprofile\u001b[0m \u001b[0;34m+\u001b[0m \u001b[0;34m'/'\u001b[0m \u001b[0;34m+\u001b[0m \u001b[0mformat\u001b[0m\u001b[0;34m,\u001b[0m \u001b[0;34m{\u001b[0m\u001b[0;34m}\u001b[0m\u001b[0;34m,\u001b[0m \u001b[0mpost_json\u001b[0m\u001b[0;34m=\u001b[0m\u001b[0mparams\u001b[0m\u001b[0;34m,\u001b[0m \u001b[0mdry_run\u001b[0m\u001b[0;34m=\u001b[0m\u001b[0mdry_run\u001b[0m\u001b[0;34m)\u001b[0m\u001b[0;34m\u001b[0m\u001b[0;34m\u001b[0m\u001b[0m\n\u001b[0m\u001b[1;32m    263\u001b[0m \u001b[0;34m\u001b[0m\u001b[0m\n\u001b[1;32m    264\u001b[0m \u001b[0;34m\u001b[0m\u001b[0m\n",
      "\u001b[0;32m/opt/conda/lib/python3.7/site-packages/openrouteservice/client.py\u001b[0m in \u001b[0;36mrequest\u001b[0;34m(self, url, get_params, first_request_time, retry_counter, requests_kwargs, post_json, dry_run)\u001b[0m\n\u001b[1;32m    202\u001b[0m \u001b[0;34m\u001b[0m\u001b[0m\n\u001b[1;32m    203\u001b[0m         \u001b[0;32mtry\u001b[0m\u001b[0;34m:\u001b[0m\u001b[0;34m\u001b[0m\u001b[0;34m\u001b[0m\u001b[0m\n\u001b[0;32m--> 204\u001b[0;31m             \u001b[0mresult\u001b[0m \u001b[0;34m=\u001b[0m \u001b[0mself\u001b[0m\u001b[0;34m.\u001b[0m\u001b[0m_get_body\u001b[0m\u001b[0;34m(\u001b[0m\u001b[0mresponse\u001b[0m\u001b[0;34m)\u001b[0m\u001b[0;34m\u001b[0m\u001b[0;34m\u001b[0m\u001b[0m\n\u001b[0m\u001b[1;32m    205\u001b[0m \u001b[0;34m\u001b[0m\u001b[0m\n\u001b[1;32m    206\u001b[0m             \u001b[0;32mreturn\u001b[0m \u001b[0mresult\u001b[0m\u001b[0;34m\u001b[0m\u001b[0;34m\u001b[0m\u001b[0m\n",
      "\u001b[0;32m/opt/conda/lib/python3.7/site-packages/openrouteservice/client.py\u001b[0m in \u001b[0;36m_get_body\u001b[0;34m(response)\u001b[0m\n\u001b[1;32m    242\u001b[0m             raise exceptions.ApiError(\n\u001b[1;32m    243\u001b[0m                 \u001b[0mstatus_code\u001b[0m\u001b[0;34m,\u001b[0m\u001b[0;34m\u001b[0m\u001b[0;34m\u001b[0m\u001b[0m\n\u001b[0;32m--> 244\u001b[0;31m                 \u001b[0mbody\u001b[0m\u001b[0;34m\u001b[0m\u001b[0;34m\u001b[0m\u001b[0m\n\u001b[0m\u001b[1;32m    245\u001b[0m             )\n\u001b[1;32m    246\u001b[0m \u001b[0;34m\u001b[0m\u001b[0m\n",
      "\u001b[0;31mApiError\u001b[0m: 500 ({'error': {'code': 2099, 'message': 'Unable to get an appropriate route profile for RoutePreference = driving-hgv'}, 'info': {'engine': {'version': '6.2.0', 'build_date': '2020-07-22T14:04:49Z'}, 'timestamp': 1595426893802}})"
     ]
    }
   ],
   "source": [
    "M = folium.Map(location=center, tiles='OpenStreetMap', zoom_start=zoom)\n",
    "    \n",
    "client = ors.Client(base_url=url_ors, key='') #LIBRERIA ORS STANDARD\n",
    "\n",
    "ccA = [p['geometry']['coordinates'] for p in pointsA]\n",
    "ccB = [p['geometry']['coordinates'] for p in pointsB]\n",
    "\n",
    "#include partenza e arrivo\n",
    "dirccA = [list(reversed(point_start))] + ccA + [list(reversed(point_end))]\n",
    "dirccB = [list(reversed(point_end))] + ccB + [list(reversed(point_end))]\n",
    "\n",
    "# TSP 1\n",
    "routeA = client.directions(\n",
    "    coordinates = dirccA,\n",
    "    profile = 'driving-hgv',\n",
    "    format = 'geojson',\n",
    "    preference = 'fastest',#shortest\n",
    "    #restrictions =  ... width,height(in metri), weight(in tonnellate)\n",
    "    validate = False\n",
    ")\n",
    "\n",
    "# TSP 1\n",
    "routeB = client.directions(\n",
    "    coordinates = dirccB,\n",
    "    profile = 'driving-hgv',\n",
    "    format = 'geojson',\n",
    "    validate = False\n",
    ")\n",
    "\n",
    "polyA = [list(reversed(coord)) for coord in routeA['features'][0]['geometry']['coordinates']]\n",
    "polyB = [list(reversed(coord)) for coord in routeB['features'][0]['geometry']['coordinates']]\n",
    "\n",
    "folium.PolyLine(polyA, color='red').add_to(M)\n",
    "folium.PolyLine(polyB, color='blue').add_to(M)\n",
    "\n",
    "for c in (ccA + ccB):\n",
    "    loc = list(reversed(c))\n",
    "    folium.Marker(loc, icon=folium.Icon(icon='archive', prefix='fa', color='green')).add_to(M)\n",
    "\n",
    "folium.Marker(point_start, icon=folium.Icon(icon='truck', prefix='fa', color='blue')).add_to(M)\n",
    "    \n",
    "M"
   ]
  },
  {
   "cell_type": "markdown",
   "metadata": {},
   "source": [
    "## VRP Vehicle Routing Problem  (using VROOM)\n",
    "\n",
    "Optimize job scheduling for multiple vehicles.\n",
    "The next example makes more use of the power of the ORS optimization endpoint(using Vroom)\n",
    "- [API Optimization](https://openrouteservice.org/dev/#/api-docs/optimization/post)\n",
    "- [API VROOM](https://github.com/VROOM-Project/vroom/blob/master/docs/API.md)\n",
    "\n",
    "**Definition of 2 vehicles each having capacity 5 and bins having contents a random value from 1 to 3**"
   ]
  },
  {
   "cell_type": "code",
   "execution_count": 3,
   "metadata": {
    "scrolled": false
   },
   "outputs": [
    {
     "data": {
      "text/html": [
       "<div style=\"width:100%;\"><div style=\"position:relative;width:100%;height:0;padding-bottom:60%;\"><iframe src=\"about:blank\" style=\"position:absolute;width:100%;height:100%;left:0;top:0;border:none !important;\" data-html=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 onload=\"this.contentDocument.open();this.contentDocument.write(atob(this.getAttribute('data-html')));this.contentDocument.close();\" allowfullscreen webkitallowfullscreen mozallowfullscreen></iframe></div></div>"
      ],
      "text/plain": [
       "<folium.folium.Map at 0x7f70ddd56710>"
      ]
     },
     "execution_count": 3,
     "metadata": {},
     "output_type": "execute_result"
    }
   ],
   "source": [
    "m = folium.Map(location=center, tiles='OpenStreetMap', zoom_start=zoom)\n",
    "\n",
    "vehicles = []\n",
    "\n",
    "# VEICOLO B BLU\n",
    "point_startB = [point_start[0], point_start[1]]\n",
    "capacityB = 5\n",
    "vehicles.append(ors.optimization.Vehicle(\n",
    "    id = 1,\n",
    "    capacity = [capacityB],  # Limite di capacita' del Veicolo    \n",
    "    profile = 'driving-hgv',\n",
    "    start = list(reversed(point_startB)), # posizione di partenza veicoli\n",
    "    end = list(reversed(point_startB)),\n",
    "))\n",
    "folium.Marker(point_startB, tooltip=folium.Tooltip(capacityB,permanent=True), icon=folium.Icon(icon='truck', prefix='fa', color='blue')).add_to(m)\n",
    "\n",
    "# VEICOLO A ROSSO\n",
    "point_startA = [point_start[0] + 0.0015, point_start[1] - 0.0015]\n",
    "capacityA = 5\n",
    "vehicles.append(ors.optimization.Vehicle(\n",
    "    id = 1,\n",
    "    capacity = [capacityA],  # Limite di capacita' del Veicolo    \n",
    "    profile = 'driving-hgv',\n",
    "    start = list(reversed(point_startA)), # posizione di partenza veicoli\n",
    "    end = list(reversed(point_startA)),\n",
    "))\n",
    "folium.Marker(point_startA, tooltip=folium.Tooltip(capacityA,permanent=True), icon=folium.Icon(icon='truck', prefix='fa', color='red')).add_to(m)\n",
    "    \n",
    "#ELENCO BIDONI 4 Mezzolombardo e 6 Mezzocorona TOTALE 10 con CONTENUTO CASUALE\n",
    "job_locs = ccA + ccB\n",
    "\n",
    "jobs = []\n",
    "for idx, cc in enumerate(job_locs):\n",
    "    loc = list(reversed(cc))\n",
    "    \n",
    "    amount = random.randrange(0, 3) #random value of bin filling\n",
    "    \n",
    "    folium.Marker(loc, tooltip=folium.Tooltip(amount,permanent=True), icon=folium.Icon(icon='archive', prefix='fa', color='green')).add_to(m)\n",
    "    \n",
    "    #pass only fill bin\n",
    "    if amount != 0:\n",
    "        jobs.append(ors.optimization.Job(\n",
    "            id = idx,\n",
    "            location = cc,\n",
    "            amount = [amount], # Quantita' contenuta nel Bidone\n",
    "            #priority = [1-100] potrebbe essere utile anche priority\n",
    "            #ma non e' supportato, bug che verra presto risolto https://github.com/GIScience/openrouteservice-py/issues/39\n",
    "        ))    \n",
    "m"
   ]
  },
  {
   "cell_type": "code",
   "execution_count": 4,
   "metadata": {
    "scrolled": false
   },
   "outputs": [
    {
     "data": {
      "text/html": [
       "<div style=\"width:100%;\"><div style=\"position:relative;width:100%;height:0;padding-bottom:60%;\"><iframe src=\"about:blank\" style=\"position:absolute;width:100%;height:100%;left:0;top:0;border:none !important;\" data-html=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 onload=\"this.contentDocument.open();this.contentDocument.write(atob(this.getAttribute('data-html')));this.contentDocument.close();\" allowfullscreen webkitallowfullscreen mozallowfullscreen></iframe></div></div>"
      ],
      "text/plain": [
       "<folium.folium.Map at 0x7f70ddd56710>"
      ]
     },
     "execution_count": 4,
     "metadata": {},
     "output_type": "execute_result"
    }
   ],
   "source": [
    "clientVrp = ors.Client(base_url=url_vroom, key='')\n",
    "\n",
    "# USIAMO VROOM ATTRAVERSO LA API PYTHON DI ORS\n",
    "\n",
    "solution = clientVrp.optimization(\n",
    "    vehicles = vehicles,\n",
    "    jobs = jobs,\n",
    "    geometry = True   #VROOM RESTITUISCE LA GEOMETRIA DEL PERCORSO OLTRE ALLA SOLUZIONE\n",
    ")\n",
    "\n",
    "#SOLUZIONE CALCOLATA DA VROOM\n",
    "\n",
    "solutionA = solution['routes'][0]\n",
    "solutionB = solution['routes'][1]\n",
    "\n",
    "folium.PolyLine(\n",
    "    locations = [list(reversed(coords)) for coords in ors.convert.decode_polyline(solutionA['geometry'])['coordinates']],\n",
    "    color = 'blue',\n",
    "    tooltip = folium.Tooltip('Distance: '+str(solutionA['distance']/1000)+'km', permanent=True)\n",
    ").add_to(m)\n",
    "\n",
    "folium.PolyLine(\n",
    "    locations = [list(reversed(coords)) for coords in ors.convert.decode_polyline(solutionB['geometry'])['coordinates']],\n",
    "    color = 'red',\n",
    "    tooltip = folium.Tooltip('Distance: '+str(solutionB['distance']/1000)+'km', permanent=True)\n",
    ").add_to(m)\n",
    "\n",
    "# in NERO strade chiuse a traffico pesante\n",
    "folium.GeoJson(\n",
    "    './data/restrictions_roads.geojson',\n",
    "    tooltip=folium.GeoJsonTooltip(fields=['maxweight','maxheight']),\n",
    "    style_function = (lambda x: {'color':'black','weight':10,'opacity':0.8})\n",
    ").add_to(m)\n",
    "m"
   ]
  },
  {
   "cell_type": "code",
   "execution_count": 5,
   "metadata": {
    "scrolled": false
   },
   "outputs": [
    {
     "name": "stdout",
     "output_type": "stream",
     "text": [
      "Vehicle Red\n",
      "total distance: 2.373km\n",
      "\n",
      "Steps:\n",
      "\n",
      "bin id: 5 distance: 954meters\n",
      "bin id: 4 distance: 1616meters\n",
      "\n",
      "\n",
      "Vehicle Blue\n",
      "total distance: 4.013km\n",
      "\n",
      "Steps:\n",
      "\n",
      "bin id: 1 distance: 1884meters\n",
      "bin id: 0 distance: 2746meters\n"
     ]
    }
   ],
   "source": [
    "print('Vehicle Red\\ntotal distance: '+str(solutionA['distance']/1000)+'km\\n')\n",
    "print('Steps:\\n')\n",
    "for d in solutionA['steps']:\n",
    "    if d['type']=='job':\n",
    "        print(\"bin id: {job} distance: {distance}meters\".format(**d))\n",
    "\n",
    "print('\\n')\n",
    "\n",
    "print('Vehicle Blue\\ntotal distance: '+str(solutionB['distance']/1000)+'km\\n')\n",
    "print('Steps:\\n')\n",
    "for d in solutionB['steps']:\n",
    "    if d['type']=='job':\n",
    "        print(\"bin id: {job} distance: {distance}meters\".format(**d))"
   ]
  },
  {
   "cell_type": "code",
   "execution_count": 7,
   "metadata": {
    "scrolled": false
   },
   "outputs": [
    {
     "data": {
      "text/plain": [
       "{'code': 0,\n",
       " 'summary': {'cost': 965,\n",
       "  'unassigned': 0,\n",
       "  'amount': [7],\n",
       "  'service': 0,\n",
       "  'duration': 965,\n",
       "  'waiting_time': 0,\n",
       "  'distance': 7938,\n",
       "  'computing_times': {'loading': 54, 'solving': 1, 'routing': 33}},\n",
       " 'unassigned': [],\n",
       " 'routes': [{'vehicle': 1,\n",
       "   'cost': 397,\n",
       "   'amount': [5],\n",
       "   'service': 0,\n",
       "   'duration': 397,\n",
       "   'waiting_time': 0,\n",
       "   'distance': 3924,\n",
       "   'steps': [{'type': 'start',\n",
       "     'location': [11.1066, 46.217],\n",
       "     'arrival': 0,\n",
       "     'duration': 0,\n",
       "     'distance': 0},\n",
       "    {'type': 'job',\n",
       "     'location': [11.122541427612305, 46.20986352455638],\n",
       "     'job': 8,\n",
       "     'service': 0,\n",
       "     'waiting_time': 0,\n",
       "     'arrival': 185,\n",
       "     'duration': 185,\n",
       "     'distance': 1865},\n",
       "    {'type': 'job',\n",
       "     'location': [11.123356819152832, 46.21419929496722],\n",
       "     'job': 6,\n",
       "     'service': 0,\n",
       "     'waiting_time': 0,\n",
       "     'arrival': 273,\n",
       "     'duration': 273,\n",
       "     'distance': 2493},\n",
       "    {'type': 'job',\n",
       "     'location': [11.118206977844238, 46.214911991592125],\n",
       "     'job': 5,\n",
       "     'service': 0,\n",
       "     'waiting_time': 0,\n",
       "     'arrival': 317,\n",
       "     'duration': 317,\n",
       "     'distance': 2970},\n",
       "    {'type': 'end',\n",
       "     'location': [11.1066, 46.217],\n",
       "     'arrival': 397,\n",
       "     'duration': 397,\n",
       "     'distance': 3924}],\n",
       "   'geometry': 'iwayGggxbADe@HqAA{@AwA@cAPwCNqBVmBRuANs@Jk@p@uCr@gCn@eB~@kBd@}@Rw@BKNkDDYJk@Ju@Do@@W?O?M?MIeCGgAAk@Ca@?GA]AiA?K?WFSFCDEBK?MAGEGGCK@CBQk@Sy@Su@Kg@DCBE@E@IVEvAcB|@eAnAyAzAcBBE`AgAlByBNQPSV[X]LOv@_A~AmBDHdAhBFJd@f@j@`@p@d@PTNTPXNMOLQYOUQUq@e@k@a@e@g@GKeAiBEI_BlBw@~@MNY\\\\WZQROWQ[oBmCMSWl@[\\\\k@\\\\e@Pu@ZK_@J^UNw@t@mBvCO\\\\En@?VAvC?`A?RA\\\\CZGDGP?FDLLFDAJf@Rt@Rx@Pj@ADAFAHDNHFB@GR?V?J?D@bA@\\\\?FB`@@j@FfAHdC?L?L?NAVEn@Kt@Kj@EXOjDCJSv@e@|@_AjBo@dBs@fCq@tCKj@Or@StAWlBOpBQvCAbA@vA@z@IpAEd@'},\n",
       "  {'vehicle': 1,\n",
       "   'cost': 568,\n",
       "   'amount': [2],\n",
       "   'service': 0,\n",
       "   'duration': 568,\n",
       "   'waiting_time': 0,\n",
       "   'distance': 4014,\n",
       "   'steps': [{'type': 'start',\n",
       "     'location': [11.1051, 46.2185],\n",
       "     'arrival': 0,\n",
       "     'duration': 0,\n",
       "     'distance': 0},\n",
       "    {'type': 'job',\n",
       "     'location': [11.09168529510498, 46.21057627744751],\n",
       "     'job': 2,\n",
       "     'service': 0,\n",
       "     'waiting_time': 0,\n",
       "     'arrival': 249,\n",
       "     'duration': 249,\n",
       "     'distance': 2015},\n",
       "    {'type': 'job',\n",
       "     'location': [11.096470355987549, 46.21344204466888],\n",
       "     'job': 3,\n",
       "     'service': 0,\n",
       "     'waiting_time': 0,\n",
       "     'arrival': 373,\n",
       "     'duration': 373,\n",
       "     'distance': 2694},\n",
       "    {'type': 'end',\n",
       "     'location': [11.1051, 46.2185],\n",
       "     'arrival': 568,\n",
       "     'duration': 568,\n",
       "     'distance': 4014}],\n",
       "   'geometry': 'cabyGe}wbAbAfB_DrFk@hAOb@@x@JVjBlEDJBFbFxLHRf@lAjAhCPb@@DBDTl@Nn@Hp@Hf@Aj@A|@An@?d@Av@EtE?R?^AdABz@Hn@BPXnAR|@\\\\SZSlAs@JCP?f@HLDh@XBBHFNJDHNVJNFLJRDFp@jA@@NVXf@BDFHp@lAJPRZJRJKz@eAf@o@h@o@`AkAJMHNx@nBPb@^|@DHf@lAHTRQFGXU~@wADc@Di@BMF_@Ng@FMN_@AC]q@aAkCIUEIKYO[Qg@]kCK}@Ko@G_@MsACaAAM?KAc@CuBASCgBIs@K[WNeAp@{@d@e@TsAhBKLi@t@_AgBSs@Ou@i@h@e@l@sAxBk@PI@qA^y@TYHgAB_@@?e@@o@@}@@k@Ig@Iq@Oo@Um@CEAEQc@kAiCg@mAIScFyLCGEKkBmEKWAy@Nc@j@iA~CsFcAgB'}]}"
      ]
     },
     "execution_count": 7,
     "metadata": {},
     "output_type": "execute_result"
    }
   ],
   "source": [
    "solution"
   ]
  },
  {
   "cell_type": "code",
   "execution_count": null,
   "metadata": {},
   "outputs": [],
   "source": []
  },
  {
   "cell_type": "code",
   "execution_count": null,
   "metadata": {},
   "outputs": [],
   "source": []
  },
  {
   "cell_type": "code",
   "execution_count": null,
   "metadata": {},
   "outputs": [],
   "source": []
  }
 ],
 "metadata": {
  "kernelspec": {
   "display_name": "Python 3",
   "language": "python",
   "name": "python3"
  },
  "language_info": {
   "codemirror_mode": {
    "name": "ipython",
    "version": 3
   },
   "file_extension": ".py",
   "mimetype": "text/x-python",
   "name": "python",
   "nbconvert_exporter": "python",
   "pygments_lexer": "ipython3",
   "version": "3.7.4"
  }
 },
 "nbformat": 4,
 "nbformat_minor": 2
}
