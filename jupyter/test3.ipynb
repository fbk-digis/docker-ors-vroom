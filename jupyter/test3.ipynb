{
 "cells": [
  {
   "cell_type": "markdown",
   "metadata": {},
   "source": [
    "# VROOM testing without ORS"
   ]
  },
  {
   "cell_type": "code",
   "execution_count": 1,
   "metadata": {},
   "outputs": [
    {
     "data": {
      "text/html": [
       "<div style=\"width:100%;\"><div style=\"position:relative;width:100%;height:0;padding-bottom:60%;\"><span style=\"color:#565656\">Make this Notebook Trusted to load map: File -> Trust Notebook</span><iframe src=\"about:blank\" style=\"position:absolute;width:100%;height:100%;left:0;top:0;border:none !important;\" data-html=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 onload=\"this.contentDocument.open();this.contentDocument.write(atob(this.getAttribute('data-html')));this.contentDocument.close();\" allowfullscreen webkitallowfullscreen mozallowfullscreen></iframe></div></div>"
      ],
      "text/plain": [
       "<folium.folium.Map at 0x7f39a877f910>"
      ]
     },
     "execution_count": 1,
     "metadata": {},
     "output_type": "execute_result"
    }
   ],
   "source": [
    "import requests\n",
    "import folium\n",
    "import json\n",
    "import random\n",
    "from pprint import pprint\n",
    "\n",
    "# DATI json posizione jobs (Bidoni)\n",
    "pointsA = json.load(open('./data/mezzolombardo.geojson'))['features'] #4 points\n",
    "pointsB = json.load(open('./data/mezzocorona.geojson'))['features'] #6 points\n",
    "\n",
    "#shipments = json.load(open('./data/shipments.json'))\n",
    "\n",
    "center = [46.2147, 11.1065]\n",
    "zoom = 15\n",
    "\n",
    "# POSIZIONI PARTENZA DEI VEICOLI (Furgoni)\n",
    "point_start = [46.2170, 11.1066]\n",
    "\n",
    "# POSIZIONE ARRIVO DEI VEICOLI\n",
    "point_end = [point_start[0], point_start[1]]\n",
    "\n",
    "ccA = [p['geometry']['coordinates'] for p in pointsA]\n",
    "ccB = [p['geometry']['coordinates'] for p in pointsB]\n",
    "#ELENCO BIDONI 4 Mezzolombardo e 6 Mezzocorona TOTALE 10 con CONTENUTO CASUALE\n",
    "job_locs = ccA + ccB\n",
    "\n",
    "\n",
    "# BUILD MAP from DATA\n",
    "\n",
    "map1 = folium.Map(location=center, tiles='OpenStreetMap', zoom_start=zoom)\n",
    "\n",
    "vehicles = []\n",
    "\n",
    "#vehicle capacity\n",
    "capacity = 5\n",
    "\n",
    "vehicles.append({\n",
    "    'id': 1,\n",
    "    'capacity': [capacity],  # Limite di capacita' del Veicolo    \n",
    "    'profile': 'driving-car',\n",
    "    'start': list(reversed(point_start)), # posizione di partenza veicoli\n",
    "    'end': list(reversed(point_start))\n",
    "})\n",
    "mark = folium.Marker(point_start, tooltip=folium.Tooltip(capacity,permanent=True), icon=folium.Icon(icon='truck', prefix='fa', color='blue'))\n",
    "mark.add_to(map1)\n",
    "\n",
    "#vehicle capacity\n",
    "capacity = 5\n",
    "point_startB = [point_start[0] + 0.0015, point_start[1] - 0.0015]\n",
    "\n",
    "vehicles.append({\n",
    "    'id': 1,\n",
    "    'capacity': [capacity],  # Limite di capacita' del Veicolo    \n",
    "    'profile': 'driving-car',\n",
    "    'start': list(reversed(point_startB)), # posizione di partenza veicoli\n",
    "    'end': list(reversed(point_startB))\n",
    "})\n",
    "mark = folium.Marker(point_start, tooltip=folium.Tooltip(capacity,permanent=True), icon=folium.Icon(icon='truck', prefix='fa', color='blue'))\n",
    "mark.add_to(map1)\n",
    "\n",
    "jobs = []\n",
    "for idx, cc in enumerate(job_locs):\n",
    "    loc = list(reversed(cc))\n",
    "    \n",
    "    pickup = random.randrange(1, 3) #random value of bin filling\n",
    "    \n",
    "    mark = folium.Marker(loc, tooltip=folium.Tooltip(pickup, permanent=True), icon=folium.Icon(icon='archive', prefix='fa', color='green'))\n",
    "    mark.add_to(map1)\n",
    "\n",
    "    jobs.append({\n",
    "        'id': idx,\n",
    "        'location': cc,\n",
    "        'pickup': [pickup] # Quantita' contenuta nel Bidone\n",
    "        #priority = [1-100] potrebbe essere utile anche priority\n",
    "        #ma non e' supportato, bug che verra presto risolto https://github.com/GIScience/openrouteservice-py/issues/39\n",
    "    })\n",
    "\n",
    "map1"
   ]
  },
  {
   "cell_type": "code",
   "execution_count": 2,
   "metadata": {
    "scrolled": false
   },
   "outputs": [
    {
     "name": "stdout",
     "output_type": "stream",
     "text": [
      "{\"vehicles\": [{\"id\": 1, \"capacity\": [5], \"profile\": \"driving-car\", \"start\": [11.1066, 46.217], \"end\": [11.1066, 46.217]}, {\"id\": 1, \"capacity\": [5], \"profile\": \"driving-car\", \"start\": [11.1051, 46.2185], \"end\": [11.1051, 46.2185]}], \"jobs\": [{\"id\": 0, \"location\": [11.092028617858887, 46.2173172744161], \"pickup\": [2]}, {\"id\": 1, \"location\": [11.08793020248413, 46.2161294935962], \"pickup\": [1]}, {\"id\": 2, \"location\": [11.091685295104979, 46.21057627744751], \"pickup\": [2]}, {\"id\": 3, \"location\": [11.096470355987549, 46.21344204466888], \"pickup\": [2]}, {\"id\": 4, \"location\": [11.112627983093262, 46.21758452155989], \"pickup\": [2]}, {\"id\": 5, \"location\": [11.118206977844238, 46.214911991592125], \"pickup\": [2]}, {\"id\": 6, \"location\": [11.123356819152832, 46.21419929496722], \"pickup\": [1]}, {\"id\": 7, \"location\": [11.127262115478516, 46.211972058400264], \"pickup\": [1]}, {\"id\": 8, \"location\": [11.122541427612305, 46.20986352455638], \"pickup\": [2]}, {\"id\": 9, \"location\": [11.114301681518555, 46.20900226913922], \"pickup\": [1]}]}\n"
     ]
    }
   ],
   "source": [
    "# PRINT VROOM REQUEST\n",
    "\n",
    "print(json.dumps({'vehicles': vehicles, 'jobs': jobs }))"
   ]
  },
  {
   "cell_type": "code",
   "execution_count": 7,
   "metadata": {
    "scrolled": false
   },
   "outputs": [
    {
     "name": "stdout",
     "output_type": "stream",
     "text": [
      "200\n"
     ]
    },
    {
     "data": {
      "text/plain": [
       "{'code': 0,\n",
       " 'summary': {'cost': 896,\n",
       "  'unassigned': 3,\n",
       "  'delivery': [0],\n",
       "  'amount': [0],\n",
       "  'pickup': [10],\n",
       "  'service': 0,\n",
       "  'duration': 896,\n",
       "  'waiting_time': 0,\n",
       "  'priority': 0,\n",
       "  'distance': 10223,\n",
       "  'computing_times': {'loading': 333, 'solving': 5, 'routing': 215}},\n",
       " 'unassigned': [{'id': 8, 'location': [11.122541427612305, 46.20986352455638]},\n",
       "  {'id': 3, 'location': [11.096470355987549, 46.21344204466888]},\n",
       "  {'id': 4, 'location': [11.112627983093262, 46.21758452155989]}],\n",
       " 'routes': [{'vehicle': 1,\n",
       "   'cost': 392,\n",
       "   'delivery': [0],\n",
       "   'amount': [0],\n",
       "   'pickup': [5],\n",
       "   'service': 0,\n",
       "   'duration': 392,\n",
       "   'waiting_time': 0,\n",
       "   'priority': 0,\n",
       "   'distance': 5261,\n",
       "   'steps': [{'type': 'start',\n",
       "     'location': [11.1066, 46.217],\n",
       "     'load': [0],\n",
       "     'arrival': 0,\n",
       "     'duration': 0,\n",
       "     'distance': 0},\n",
       "    {'type': 'job',\n",
       "     'location': [11.114301681518556, 46.20900226913922],\n",
       "     'id': 9,\n",
       "     'service': 0,\n",
       "     'waiting_time': 0,\n",
       "     'job': 9,\n",
       "     'load': [1],\n",
       "     'arrival': 127,\n",
       "     'duration': 127,\n",
       "     'distance': 1757},\n",
       "    {'type': 'job',\n",
       "     'location': [11.127262115478516, 46.211972058400264],\n",
       "     'id': 7,\n",
       "     'service': 0,\n",
       "     'waiting_time': 0,\n",
       "     'job': 7,\n",
       "     'load': [2],\n",
       "     'arrival': 250,\n",
       "     'duration': 250,\n",
       "     'distance': 3387},\n",
       "    {'type': 'job',\n",
       "     'location': [11.123356819152832, 46.21419929496722],\n",
       "     'id': 6,\n",
       "     'service': 0,\n",
       "     'waiting_time': 0,\n",
       "     'job': 6,\n",
       "     'load': [3],\n",
       "     'arrival': 286,\n",
       "     'duration': 286,\n",
       "     'distance': 3830},\n",
       "    {'type': 'job',\n",
       "     'location': [11.118206977844238, 46.214911991592125],\n",
       "     'id': 5,\n",
       "     'service': 0,\n",
       "     'waiting_time': 0,\n",
       "     'job': 5,\n",
       "     'load': [5],\n",
       "     'arrival': 323,\n",
       "     'duration': 323,\n",
       "     'distance': 4308},\n",
       "    {'type': 'end',\n",
       "     'location': [11.1066, 46.217],\n",
       "     'load': [5],\n",
       "     'arrival': 392,\n",
       "     'duration': 392,\n",
       "     'distance': 5261}],\n",
       "   'geometry': 'iwayGggxbADe@HqAA{@AwA@cAPwCNqBVmBRuANs@Jk@p@uCr@gCn@eB~@kBd@}@Rw@BKNkDDYJk@Ju@Do@@W?O?M?MIeCGgAAk@Ca@?GA]AiA?K?WFSFCDEBKRVJ^RhAJZPTr@d@B@r@TbA^n@PZHNBtBd@v@J^DJb@DFf@x@Xb@Vb@p@r@b@TLF|DnBDBhExBFBILHMGCiEyBEC}DoBMGc@Uq@s@Wc@Yc@g@y@EGKc@_@Ew@KuBe@OC[Io@QcA_@s@UCAs@e@QUK[SiAK_@SW?MAGEGGCK@CBQk@Sy@Su@Kg@DCBE@E@IAGEKIEE?B[@]?S?aA@wC?WDo@N]lBwCv@u@TOt@[d@Qj@]Z]Vm@Rq@f@iAFKTs@RoA`@{DJYfAkBPUPg@FSGRQf@QTgAjBKXa@zDSnAUr@GJg@hASp@Wl@[\\\\k@\\\\e@Pu@ZK_@J^UNw@t@mBvCO\\\\En@?VAvC?`A?RA\\\\CZGDGP?FDLLFDAJf@Rt@Rx@Pj@ADAFAHDNHFB@GR?V?J?D@bA@\\\\?FB`@@j@FfAHdC?L?L?NAVEn@Kt@Kj@EXOjDCJSv@e@|@_AjBo@dBs@fCq@tCKj@Or@StAWlBOpBQvCAbA@vA@z@IpAEd@'},\n",
       "  {'vehicle': 1,\n",
       "   'cost': 504,\n",
       "   'delivery': [0],\n",
       "   'amount': [0],\n",
       "   'pickup': [5],\n",
       "   'service': 0,\n",
       "   'duration': 504,\n",
       "   'waiting_time': 0,\n",
       "   'priority': 0,\n",
       "   'distance': 4962,\n",
       "   'steps': [{'type': 'start',\n",
       "     'location': [11.1051, 46.2185],\n",
       "     'load': [0],\n",
       "     'arrival': 0,\n",
       "     'duration': 0,\n",
       "     'distance': 0},\n",
       "    {'type': 'job',\n",
       "     'location': [11.09168529510498, 46.21057627744751],\n",
       "     'id': 2,\n",
       "     'service': 0,\n",
       "     'waiting_time': 0,\n",
       "     'job': 2,\n",
       "     'load': [2],\n",
       "     'arrival': 213,\n",
       "     'duration': 213,\n",
       "     'distance': 2015},\n",
       "    {'type': 'job',\n",
       "     'location': [11.08793020248413, 46.2161294935962],\n",
       "     'id': 1,\n",
       "     'service': 0,\n",
       "     'waiting_time': 0,\n",
       "     'job': 1,\n",
       "     'load': [3],\n",
       "     'arrival': 300,\n",
       "     'duration': 300,\n",
       "     'distance': 2833},\n",
       "    {'type': 'job',\n",
       "     'location': [11.092028617858888, 46.2173172744161],\n",
       "     'id': 0,\n",
       "     'service': 0,\n",
       "     'waiting_time': 0,\n",
       "     'job': 0,\n",
       "     'load': [5],\n",
       "     'arrival': 386,\n",
       "     'duration': 386,\n",
       "     'distance': 3695},\n",
       "    {'type': 'end',\n",
       "     'location': [11.1051, 46.2185],\n",
       "     'load': [5],\n",
       "     'arrival': 504,\n",
       "     'duration': 504,\n",
       "     'distance': 4962}],\n",
       "   'geometry': 'cabyGe}wbAbAfB_DrFk@hAOb@@x@JVjBlEDJBFhBlExBjFHRf@lAjAhCPb@@DBDTl@Nn@Hp@Hf@Aj@A|@An@?d@Av@EtE?R?^AdABz@Hn@BPXnAR|@\\\\SZSlAs@JCP?f@HLDh@XBBHFNJDHNVJNFLJRDFp@jA@@NVXf@BDFHp@lAJPRZJRJKz@eAf@o@h@o@`AkAJMHNx@nBPb@^|@DHf@lAHTRQFGXU~@wADc@Di@BMF_@Ng@FMN_@AC]q@aAkCIUEIKYm@r@c@j@m@n@KL_@b@m@t@KLKLaAjAi@n@g@n@{@dAKJ[\\\\STeA|@EFIDURe@^oAnAML}@~@u@v@uArAGFOPKL????JMNQFGtAsAt@w@|@_ALMnAoAd@_@TSHEDGdA}@RUZ]KSS[KQq@mAGICEYg@OWAAq@kAEGKSGMKOOWEIOKIGCCi@YMEg@IQ?KBmAr@[R]Rc@VEB_@V{@A}@FOFNG|@Gz@@^WDCb@WS}@YoACQIo@C{@@eA?_@?SDuE@w@?e@@o@@}@@k@Ig@Iq@Oo@Um@CEAEQc@kAiCg@mAISyBkFiBmECGEKkBmEKWAy@Nc@j@iA~CsFcAgB'}]}"
      ]
     },
     "execution_count": 7,
     "metadata": {},
     "output_type": "execute_result"
    }
   ],
   "source": [
    "vroom_url = 'http://vroom:3000/optimization/'\n",
    "\n",
    "params = {\n",
    "    'vehicles': vehicles,\n",
    "    'jobs': jobs,\n",
    "    'geometry': True\n",
    "}\n",
    "resp = requests.post(vroom_url, json = params)\n",
    "\n",
    "print(resp.status_code)\n",
    "\n",
    "solution = resp.json()\n",
    "\n",
    "solution\n",
    "\n"
   ]
  },
  {
   "cell_type": "code",
   "execution_count": 4,
   "metadata": {},
   "outputs": [
    {
     "ename": "NameError",
     "evalue": "name 'ors' is not defined",
     "output_type": "error",
     "traceback": [
      "\u001b[0;31m---------------------------------------------------------------------------\u001b[0m",
      "\u001b[0;31mNameError\u001b[0m                                 Traceback (most recent call last)",
      "\u001b[0;32m<ipython-input-4-ea815337c148>\u001b[0m in \u001b[0;36m<module>\u001b[0;34m\u001b[0m\n\u001b[1;32m      2\u001b[0m \u001b[0;34m\u001b[0m\u001b[0m\n\u001b[1;32m      3\u001b[0m poly = folium.PolyLine(\n\u001b[0;32m----> 4\u001b[0;31m     \u001b[0mlocations\u001b[0m \u001b[0;34m=\u001b[0m \u001b[0;34m[\u001b[0m\u001b[0mlist\u001b[0m\u001b[0;34m(\u001b[0m\u001b[0mreversed\u001b[0m\u001b[0;34m(\u001b[0m\u001b[0mcoords\u001b[0m\u001b[0;34m)\u001b[0m\u001b[0;34m)\u001b[0m \u001b[0;32mfor\u001b[0m \u001b[0mcoords\u001b[0m \u001b[0;32min\u001b[0m \u001b[0mors\u001b[0m\u001b[0;34m.\u001b[0m\u001b[0mconvert\u001b[0m\u001b[0;34m.\u001b[0m\u001b[0mdecode_polyline\u001b[0m\u001b[0;34m(\u001b[0m\u001b[0msolutionA\u001b[0m\u001b[0;34m[\u001b[0m\u001b[0;34m'geometry'\u001b[0m\u001b[0;34m]\u001b[0m\u001b[0;34m)\u001b[0m\u001b[0;34m[\u001b[0m\u001b[0;34m'coordinates'\u001b[0m\u001b[0;34m]\u001b[0m\u001b[0;34m]\u001b[0m\u001b[0;34m,\u001b[0m\u001b[0;34m\u001b[0m\u001b[0;34m\u001b[0m\u001b[0m\n\u001b[0m\u001b[1;32m      5\u001b[0m     \u001b[0mcolor\u001b[0m \u001b[0;34m=\u001b[0m \u001b[0;34m'blue'\u001b[0m\u001b[0;34m,\u001b[0m\u001b[0;34m\u001b[0m\u001b[0;34m\u001b[0m\u001b[0m\n\u001b[1;32m      6\u001b[0m     \u001b[0mtooltip\u001b[0m \u001b[0;34m=\u001b[0m \u001b[0mfolium\u001b[0m\u001b[0;34m.\u001b[0m\u001b[0mTooltip\u001b[0m\u001b[0;34m(\u001b[0m\u001b[0;34m'Distance: '\u001b[0m\u001b[0;34m+\u001b[0m\u001b[0mstr\u001b[0m\u001b[0;34m(\u001b[0m\u001b[0msolutionA\u001b[0m\u001b[0;34m[\u001b[0m\u001b[0;34m'distance'\u001b[0m\u001b[0;34m]\u001b[0m\u001b[0;34m/\u001b[0m\u001b[0;36m1000\u001b[0m\u001b[0;34m)\u001b[0m\u001b[0;34m+\u001b[0m\u001b[0;34m'km'\u001b[0m\u001b[0;34m,\u001b[0m \u001b[0mpermanent\u001b[0m\u001b[0;34m=\u001b[0m\u001b[0;32mTrue\u001b[0m\u001b[0;34m)\u001b[0m\u001b[0;34m\u001b[0m\u001b[0;34m\u001b[0m\u001b[0m\n",
      "\u001b[0;31mNameError\u001b[0m: name 'ors' is not defined"
     ]
    }
   ],
   "source": [
    "solutionA = solution['routes'][0]\n",
    "\n",
    "poly = folium.PolyLine(\n",
    "    locations = [list(reversed(coords)) for coords in ors.convert.decode_polyline(solutionA['geometry'])['coordinates']],\n",
    "    color = 'blue',\n",
    "    tooltip = folium.Tooltip('Distance: '+str(solutionA['distance']/1000)+'km', permanent=True)\n",
    ")\n",
    "\n",
    "poly.add_to(map1)\n",
    "\n",
    "map1"
   ]
  },
  {
   "cell_type": "code",
   "execution_count": null,
   "metadata": {},
   "outputs": [],
   "source": [
    "solution"
   ]
  },
  {
   "cell_type": "code",
   "execution_count": null,
   "metadata": {},
   "outputs": [],
   "source": []
  }
 ],
 "metadata": {
  "kernelspec": {
   "display_name": "Python 3",
   "language": "python",
   "name": "python3"
  },
  "language_info": {
   "codemirror_mode": {
    "name": "ipython",
    "version": 3
   },
   "file_extension": ".py",
   "mimetype": "text/x-python",
   "name": "python",
   "nbconvert_exporter": "python",
   "pygments_lexer": "ipython3",
   "version": "3.8.6"
  }
 },
 "nbformat": 4,
 "nbformat_minor": 2
}
