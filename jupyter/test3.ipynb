{
 "cells": [
  {
   "cell_type": "markdown",
   "metadata": {},
   "source": [
    "# OpenRouteService python bindings\n",
    "\n",
    "\n",
    "TESTING ORS v6.2 VROOM v1.6.0 ORS-PY v2.3.0"
   ]
  },
  {
   "cell_type": "code",
   "execution_count": 5,
   "metadata": {},
   "outputs": [],
   "source": [
    "import openrouteservice as ors\n",
    "import folium\n",
    "import json\n",
    "import random\n",
    "from pprint import pprint\n",
    "\n",
    "url_ors = 'http://ors:8080/ors'  #istanze locale ROUTING ENGINE \n",
    "\n",
    "url_vroom = 'http://vroom:8081'  #instanza loale VROOM\n",
    "\n",
    "# DATI json posizione jobs (Bidoni)\n",
    "pointsA = json.load(open('./data/mezzolombardo.geojson'))['features'] #4 points\n",
    "pointsB = json.load(open('./data/mezzocorona.geojson'))['features'] #6 points\n",
    "\n",
    "#shipments = json.load(open('./data/shipments.json'))\n",
    "\n",
    "center = [46.2147, 11.1065]\n",
    "zoom = 15\n",
    "\n",
    "# POSIZIONI PARTENZA DEI VEICOLI (Furgoni)\n",
    "point_start = [46.2170,11.1066]\n",
    "\n",
    "# POSIZIONE ARRIVO DEI VEICOLI\n",
    "point_end = [point_start[0], point_start[1]]\n",
    "\n",
    "ccA = [p['geometry']['coordinates'] for p in pointsA]\n",
    "ccB = [p['geometry']['coordinates'] for p in pointsB]\n",
    "#ELENCO BIDONI 4 Mezzolombardo e 6 Mezzocorona TOTALE 10 con CONTENUTO CASUALE\n",
    "job_locs = ccA + ccB"
   ]
  },
  {
   "cell_type": "code",
   "execution_count": 6,
   "metadata": {},
   "outputs": [
    {
     "data": {
      "text/plain": [
       "'2.3.0'"
      ]
     },
     "execution_count": 6,
     "metadata": {},
     "output_type": "execute_result"
    }
   ],
   "source": [
    "ors.__version__"
   ]
  },
  {
   "cell_type": "code",
   "execution_count": 11,
   "metadata": {
    "scrolled": false
   },
   "outputs": [
    {
     "ename": "TypeError",
     "evalue": "__init__() got an unexpected keyword argument 'pickup'",
     "output_type": "error",
     "traceback": [
      "\u001b[0;31m---------------------------------------------------------------------------\u001b[0m",
      "\u001b[0;31mTypeError\u001b[0m                                 Traceback (most recent call last)",
      "\u001b[0;32m<ipython-input-11-876cb1489eb0>\u001b[0m in \u001b[0;36m<module>\u001b[0;34m\u001b[0m\n\u001b[1;32m     25\u001b[0m     \u001b[0mmark\u001b[0m\u001b[0;34m.\u001b[0m\u001b[0madd_to\u001b[0m\u001b[0;34m(\u001b[0m\u001b[0mmap1\u001b[0m\u001b[0;34m)\u001b[0m\u001b[0;34m\u001b[0m\u001b[0;34m\u001b[0m\u001b[0m\n\u001b[1;32m     26\u001b[0m \u001b[0;34m\u001b[0m\u001b[0m\n\u001b[0;32m---> 27\u001b[0;31m     jobs.append(ors.optimization.Job(\n\u001b[0m\u001b[1;32m     28\u001b[0m         \u001b[0mid\u001b[0m \u001b[0;34m=\u001b[0m \u001b[0midx\u001b[0m\u001b[0;34m,\u001b[0m\u001b[0;34m\u001b[0m\u001b[0;34m\u001b[0m\u001b[0m\n\u001b[1;32m     29\u001b[0m         \u001b[0mlocation\u001b[0m \u001b[0;34m=\u001b[0m \u001b[0mcc\u001b[0m\u001b[0;34m,\u001b[0m\u001b[0;34m\u001b[0m\u001b[0;34m\u001b[0m\u001b[0m\n",
      "\u001b[0;31mTypeError\u001b[0m: __init__() got an unexpected keyword argument 'pickup'"
     ]
    }
   ],
   "source": [
    "map1 = folium.Map(location=center, tiles='OpenStreetMap', zoom_start=zoom)\n",
    "\n",
    "vehicles = []\n",
    "\n",
    "#vehicle capacity\n",
    "capacity = 5\n",
    "\n",
    "vehicles.append(ors.optimization.Vehicle(\n",
    "    id = 1,\n",
    "    capacity = [capacity],  # Limite di capacita' del Veicolo    \n",
    "    profile = 'driving-car',\n",
    "    start = list(reversed(point_start)), # posizione di partenza veicoli\n",
    "    end = list(reversed(point_start)),\n",
    "))\n",
    "mark = folium.Marker(point_start, tooltip=folium.Tooltip(capacityB,permanent=True), icon=folium.Icon(icon='truck', prefix='fa', color='blue'))\n",
    "mark.add_to(map1)\n",
    "\n",
    "jobs = []\n",
    "for idx, cc in enumerate(job_locs):\n",
    "    loc = list(reversed(cc))\n",
    "    \n",
    "    amount = random.randrange(1, 3) #random value of bin filling\n",
    "    \n",
    "    mark = folium.Marker(loc, tooltip=folium.Tooltip(pickup, permanent=True), icon=folium.Icon(icon='archive', prefix='fa', color='green'))\n",
    "    mark.add_to(map1)\n",
    "\n",
    "    jobs.append(ors.optimization.Job(\n",
    "        id = idx,\n",
    "        location = cc,\n",
    "        pickup = [pickup], # Quantita' contenuta nel Bidone\n",
    "        #priority = [1-100] potrebbe essere utile anche priority\n",
    "        #ma non e' supportato, bug che verra presto risolto https://github.com/GIScience/openrouteservice-py/issues/39\n",
    "    ))\n",
    "\n",
    "map1"
   ]
  },
  {
   "cell_type": "code",
   "execution_count": 24,
   "metadata": {},
   "outputs": [
    {
     "data": {
      "text/plain": [
       "[]"
      ]
     },
     "execution_count": 24,
     "metadata": {},
     "output_type": "execute_result"
    }
   ],
   "source": [
    "vehicles\n",
    "jobs"
   ]
  },
  {
   "cell_type": "code",
   "execution_count": 23,
   "metadata": {
    "scrolled": false
   },
   "outputs": [
    {
     "ename": "ApiError",
     "evalue": "400 ({'code': 2, 'error': 'Invalid jobs or shipments.'})",
     "output_type": "error",
     "traceback": [
      "\u001b[0;31m---------------------------------------------------------------------------\u001b[0m",
      "\u001b[0;31mApiError\u001b[0m                                  Traceback (most recent call last)",
      "\u001b[0;32m<ipython-input-23-7f2a2e0cdb58>\u001b[0m in \u001b[0;36m<module>\u001b[0;34m\u001b[0m\n\u001b[1;32m      6\u001b[0m     \u001b[0mvehicles\u001b[0m \u001b[0;34m=\u001b[0m \u001b[0mvehicles\u001b[0m\u001b[0;34m,\u001b[0m\u001b[0;34m\u001b[0m\u001b[0;34m\u001b[0m\u001b[0m\n\u001b[1;32m      7\u001b[0m     \u001b[0mjobs\u001b[0m \u001b[0;34m=\u001b[0m \u001b[0mjobs\u001b[0m\u001b[0;34m,\u001b[0m\u001b[0;34m\u001b[0m\u001b[0;34m\u001b[0m\u001b[0m\n\u001b[0;32m----> 8\u001b[0;31m     \u001b[0mgeometry\u001b[0m \u001b[0;34m=\u001b[0m \u001b[0;32mTrue\u001b[0m   \u001b[0;31m#VROOM RESTITUISCE LA GEOMETRIA DEL PERCORSO OLTRE ALLA SOLUZIONE\u001b[0m\u001b[0;34m\u001b[0m\u001b[0;34m\u001b[0m\u001b[0m\n\u001b[0m\u001b[1;32m      9\u001b[0m )\n\u001b[1;32m     10\u001b[0m \u001b[0;34m\u001b[0m\u001b[0m\n",
      "\u001b[0;32m/opt/conda/lib/python3.7/site-packages/openrouteservice/client.py\u001b[0m in \u001b[0;36mwrapper\u001b[0;34m(*args, **kwargs)\u001b[0m\n\u001b[1;32m    295\u001b[0m     \u001b[0;32mdef\u001b[0m \u001b[0mwrapper\u001b[0m\u001b[0;34m(\u001b[0m\u001b[0;34m*\u001b[0m\u001b[0margs\u001b[0m\u001b[0;34m,\u001b[0m \u001b[0;34m**\u001b[0m\u001b[0mkwargs\u001b[0m\u001b[0;34m)\u001b[0m\u001b[0;34m:\u001b[0m\u001b[0;34m\u001b[0m\u001b[0;34m\u001b[0m\u001b[0m\n\u001b[1;32m    296\u001b[0m         \u001b[0margs\u001b[0m\u001b[0;34m[\u001b[0m\u001b[0;36m0\u001b[0m\u001b[0;34m]\u001b[0m\u001b[0;34m.\u001b[0m\u001b[0m_extra_params\u001b[0m \u001b[0;34m=\u001b[0m \u001b[0mkwargs\u001b[0m\u001b[0;34m.\u001b[0m\u001b[0mpop\u001b[0m\u001b[0;34m(\u001b[0m\u001b[0;34m\"extra_params\"\u001b[0m\u001b[0;34m,\u001b[0m \u001b[0;32mNone\u001b[0m\u001b[0;34m)\u001b[0m\u001b[0;34m\u001b[0m\u001b[0;34m\u001b[0m\u001b[0m\n\u001b[0;32m--> 297\u001b[0;31m         \u001b[0mresult\u001b[0m \u001b[0;34m=\u001b[0m \u001b[0mfunc\u001b[0m\u001b[0;34m(\u001b[0m\u001b[0;34m*\u001b[0m\u001b[0margs\u001b[0m\u001b[0;34m,\u001b[0m \u001b[0;34m**\u001b[0m\u001b[0mkwargs\u001b[0m\u001b[0;34m)\u001b[0m\u001b[0;34m\u001b[0m\u001b[0;34m\u001b[0m\u001b[0m\n\u001b[0m\u001b[1;32m    298\u001b[0m         \u001b[0;32mtry\u001b[0m\u001b[0;34m:\u001b[0m\u001b[0;34m\u001b[0m\u001b[0;34m\u001b[0m\u001b[0m\n\u001b[1;32m    299\u001b[0m             \u001b[0;32mdel\u001b[0m \u001b[0margs\u001b[0m\u001b[0;34m[\u001b[0m\u001b[0;36m0\u001b[0m\u001b[0;34m]\u001b[0m\u001b[0;34m.\u001b[0m\u001b[0m_extra_params\u001b[0m\u001b[0;34m\u001b[0m\u001b[0;34m\u001b[0m\u001b[0m\n",
      "\u001b[0;32m/opt/conda/lib/python3.7/site-packages/openrouteservice/optimization.py\u001b[0m in \u001b[0;36moptimization\u001b[0;34m(client, jobs, vehicles, matrix, geometry, dry_run)\u001b[0m\n\u001b[1;32m     72\u001b[0m         \u001b[0mparams\u001b[0m\u001b[0;34m[\u001b[0m\u001b[0;34m'matrix'\u001b[0m\u001b[0;34m]\u001b[0m \u001b[0;34m=\u001b[0m \u001b[0mmatrix\u001b[0m\u001b[0;34m\u001b[0m\u001b[0;34m\u001b[0m\u001b[0m\n\u001b[1;32m     73\u001b[0m \u001b[0;34m\u001b[0m\u001b[0m\n\u001b[0;32m---> 74\u001b[0;31m     \u001b[0;32mreturn\u001b[0m \u001b[0mclient\u001b[0m\u001b[0;34m.\u001b[0m\u001b[0mrequest\u001b[0m\u001b[0;34m(\u001b[0m\u001b[0;34m\"/optimization\"\u001b[0m\u001b[0;34m,\u001b[0m \u001b[0;34m{\u001b[0m\u001b[0;34m}\u001b[0m\u001b[0;34m,\u001b[0m \u001b[0mpost_json\u001b[0m\u001b[0;34m=\u001b[0m\u001b[0mparams\u001b[0m\u001b[0;34m,\u001b[0m \u001b[0mdry_run\u001b[0m\u001b[0;34m=\u001b[0m\u001b[0mdry_run\u001b[0m\u001b[0;34m)\u001b[0m\u001b[0;34m\u001b[0m\u001b[0;34m\u001b[0m\u001b[0m\n\u001b[0m\u001b[1;32m     75\u001b[0m \u001b[0;34m\u001b[0m\u001b[0m\n\u001b[1;32m     76\u001b[0m \u001b[0;34m\u001b[0m\u001b[0m\n",
      "\u001b[0;32m/opt/conda/lib/python3.7/site-packages/openrouteservice/client.py\u001b[0m in \u001b[0;36mrequest\u001b[0;34m(self, url, get_params, first_request_time, retry_counter, requests_kwargs, post_json, dry_run)\u001b[0m\n\u001b[1;32m    202\u001b[0m \u001b[0;34m\u001b[0m\u001b[0m\n\u001b[1;32m    203\u001b[0m         \u001b[0;32mtry\u001b[0m\u001b[0;34m:\u001b[0m\u001b[0;34m\u001b[0m\u001b[0;34m\u001b[0m\u001b[0m\n\u001b[0;32m--> 204\u001b[0;31m             \u001b[0mresult\u001b[0m \u001b[0;34m=\u001b[0m \u001b[0mself\u001b[0m\u001b[0;34m.\u001b[0m\u001b[0m_get_body\u001b[0m\u001b[0;34m(\u001b[0m\u001b[0mresponse\u001b[0m\u001b[0;34m)\u001b[0m\u001b[0;34m\u001b[0m\u001b[0;34m\u001b[0m\u001b[0m\n\u001b[0m\u001b[1;32m    205\u001b[0m \u001b[0;34m\u001b[0m\u001b[0m\n\u001b[1;32m    206\u001b[0m             \u001b[0;32mreturn\u001b[0m \u001b[0mresult\u001b[0m\u001b[0;34m\u001b[0m\u001b[0;34m\u001b[0m\u001b[0m\n",
      "\u001b[0;32m/opt/conda/lib/python3.7/site-packages/openrouteservice/client.py\u001b[0m in \u001b[0;36m_get_body\u001b[0;34m(response)\u001b[0m\n\u001b[1;32m    242\u001b[0m             raise exceptions.ApiError(\n\u001b[1;32m    243\u001b[0m                 \u001b[0mstatus_code\u001b[0m\u001b[0;34m,\u001b[0m\u001b[0;34m\u001b[0m\u001b[0;34m\u001b[0m\u001b[0m\n\u001b[0;32m--> 244\u001b[0;31m                 \u001b[0mbody\u001b[0m\u001b[0;34m\u001b[0m\u001b[0;34m\u001b[0m\u001b[0m\n\u001b[0m\u001b[1;32m    245\u001b[0m             )\n\u001b[1;32m    246\u001b[0m \u001b[0;34m\u001b[0m\u001b[0m\n",
      "\u001b[0;31mApiError\u001b[0m: 400 ({'code': 2, 'error': 'Invalid jobs or shipments.'})"
     ]
    }
   ],
   "source": [
    "clientVrp = ors.Client(base_url=url_vroom, key='')\n",
    "\n",
    "# USIAMO VROOM ATTRAVERSO LA API PYTHON DI ORS\n",
    "\n",
    "solution = clientVrp.optimization(\n",
    "    vehicles = vehicles,\n",
    "    jobs = jobs,\n",
    "    geometry = True   #VROOM RESTITUISCE LA GEOMETRIA DEL PERCORSO OLTRE ALLA SOLUZIONE\n",
    ")\n",
    "\n",
    "#SOLUZIONE CALCOLATA DA VROOM\n",
    "\n",
    "solutionA = solution['routes'][0]\n",
    "\n",
    "poly = folium.PolyLine(\n",
    "    locations = [list(reversed(coords)) for coords in ors.convert.decode_polyline(solutionA['geometry'])['coordinates']],\n",
    "    color = 'blue',\n",
    "    tooltip = folium.Tooltip('Distance: '+str(solutionA['distance']/1000)+'km', permanent=True)\n",
    ")\n",
    "\n",
    "poly.add_to(map1)\n",
    "\n",
    "map1"
   ]
  },
  {
   "cell_type": "code",
   "execution_count": 17,
   "metadata": {},
   "outputs": [
    {
     "data": {
      "text/plain": [
       "{'code': 0,\n",
       " 'summary': {'cost': 269,\n",
       "  'unassigned': 2,\n",
       "  'delivery': [5],\n",
       "  'amount': [5],\n",
       "  'pickup': [0],\n",
       "  'service': 0,\n",
       "  'duration': 269,\n",
       "  'waiting_time': 0,\n",
       "  'distance': 3340,\n",
       "  'computing_times': {'loading': 15, 'solving': 1, 'routing': 11}},\n",
       " 'unassigned': [{'id': 7,\n",
       "   'location': [11.127262115478516, 46.211972058400264]},\n",
       "  {'id': 3, 'location': [11.096470355987549, 46.21344204466888]}],\n",
       " 'routes': [{'vehicle': 1,\n",
       "   'cost': 269,\n",
       "   'delivery': [5],\n",
       "   'amount': [5],\n",
       "   'pickup': [0],\n",
       "   'service': 0,\n",
       "   'duration': 269,\n",
       "   'waiting_time': 0,\n",
       "   'distance': 3340,\n",
       "   'steps': [{'type': 'start',\n",
       "     'location': [11.1066, 46.217],\n",
       "     'load': [5],\n",
       "     'arrival': 0,\n",
       "     'duration': 0,\n",
       "     'distance': 0},\n",
       "    {'type': 'job',\n",
       "     'location': [11.123356819152832, 46.21419929496722],\n",
       "     'job': 6,\n",
       "     'service': 0,\n",
       "     'waiting_time': 0,\n",
       "     'load': [3],\n",
       "     'arrival': 107,\n",
       "     'duration': 107,\n",
       "     'distance': 1444},\n",
       "    {'type': 'job',\n",
       "     'location': [11.118206977844238, 46.214911991592125],\n",
       "     'job': 5,\n",
       "     'service': 0,\n",
       "     'waiting_time': 0,\n",
       "     'load': [2],\n",
       "     'arrival': 144,\n",
       "     'duration': 144,\n",
       "     'distance': 1921},\n",
       "    {'type': 'job',\n",
       "     'location': [11.112627983093262, 46.21758452155989],\n",
       "     'job': 4,\n",
       "     'service': 0,\n",
       "     'waiting_time': 0,\n",
       "     'load': [0],\n",
       "     'arrival': 203,\n",
       "     'duration': 203,\n",
       "     'distance': 2583},\n",
       "    {'type': 'end',\n",
       "     'location': [11.1066, 46.217],\n",
       "     'load': [0],\n",
       "     'arrival': 269,\n",
       "     'duration': 269,\n",
       "     'distance': 3340}],\n",
       "   'geometry': 'iwayGggxbADe@HqAA{@AwA@cAPwCNqBVmBRuANs@Jk@p@uCr@gCn@eB~@kBd@}@Rw@BKNkDDYJk@Ju@Do@@W?O?M?MIeCGgAAk@Ca@?GA]AiA?K?WFSFCDEBK?MAGEGGCK@CBQk@Sy@Su@Kg@DCBE@E@IAGEKIEE?B[@]?S?aA@wC?WDo@N]lBwCv@u@TOK_@J^UNw@t@mBvCO\\\\En@?VAvC?`A?RA\\\\CZGDGP?FDLLFDAJf@Rt@Rx@Pj@ADAFAHDNHFB@GR?V?J?D@bA@\\\\?FB`@@j@FfAHdC?L?L?NAVEn@Kt@Kj@EXOjDCJSv@e@|@_AjBgDVqAFeCCIHGZF[HIdCBpAGfDWo@dBs@fCq@tCKj@Or@StAWlBOpBQvCAbA@vA@z@IpAEd@'}]}"
      ]
     },
     "execution_count": 17,
     "metadata": {},
     "output_type": "execute_result"
    }
   ],
   "source": [
    "solution"
   ]
  },
  {
   "cell_type": "code",
   "execution_count": null,
   "metadata": {},
   "outputs": [],
   "source": []
  }
 ],
 "metadata": {
  "kernelspec": {
   "display_name": "Python 3",
   "language": "python",
   "name": "python3"
  },
  "language_info": {
   "codemirror_mode": {
    "name": "ipython",
    "version": 3
   },
   "file_extension": ".py",
   "mimetype": "text/x-python",
   "name": "python",
   "nbconvert_exporter": "python",
   "pygments_lexer": "ipython3",
   "version": "3.8.6"
  }
 },
 "nbformat": 4,
 "nbformat_minor": 2
}
