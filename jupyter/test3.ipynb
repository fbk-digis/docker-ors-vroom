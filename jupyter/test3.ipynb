{
 "cells": [
  {
   "cell_type": "markdown",
   "metadata": {},
   "source": [
    "# VROOM testing without ORS"
   ]
  },
  {
   "cell_type": "code",
   "execution_count": 1,
   "metadata": {},
   "outputs": [
    {
     "data": {
      "text/html": [
       "<div style=\"width:100%;\"><div style=\"position:relative;width:100%;height:0;padding-bottom:60%;\"><span style=\"color:#565656\">Make this Notebook Trusted to load map: File -> Trust Notebook</span><iframe src=\"about:blank\" style=\"position:absolute;width:100%;height:100%;left:0;top:0;border:none !important;\" data-html=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 onload=\"this.contentDocument.open();this.contentDocument.write(atob(this.getAttribute('data-html')));this.contentDocument.close();\" allowfullscreen webkitallowfullscreen mozallowfullscreen></iframe></div></div>"
      ],
      "text/plain": [
       "<folium.folium.Map at 0x7fefd47689d0>"
      ]
     },
     "execution_count": 1,
     "metadata": {},
     "output_type": "execute_result"
    }
   ],
   "source": [
    "import requests\n",
    "import folium\n",
    "import json\n",
    "import random\n",
    "from pprint import pprint\n",
    "\n",
    "# DATI json posizione jobs (Bidoni)\n",
    "pointsA = json.load(open('./data/mezzolombardo.geojson'))['features'] #4 points\n",
    "pointsB = json.load(open('./data/mezzocorona.geojson'))['features'] #6 points\n",
    "\n",
    "#shipments = json.load(open('./data/shipments.json'))\n",
    "\n",
    "center = [46.2147, 11.1065]\n",
    "zoom = 15\n",
    "\n",
    "# POSIZIONI PARTENZA DEI VEICOLI (Furgoni)\n",
    "point_start = [46.2170, 11.1066]\n",
    "\n",
    "# POSIZIONE ARRIVO DEI VEICOLI\n",
    "point_end = [point_start[0], point_start[1]]\n",
    "\n",
    "ccA = [p['geometry']['coordinates'] for p in pointsA]\n",
    "ccB = [p['geometry']['coordinates'] for p in pointsB]\n",
    "#ELENCO BIDONI 4 Mezzolombardo e 6 Mezzocorona TOTALE 10 con CONTENUTO CASUALE\n",
    "job_locs = ccA + ccB\n",
    "\n",
    "\n",
    "# BUILD MAP from DATA\n",
    "\n",
    "map1 = folium.Map(location=center, tiles='OpenStreetMap', zoom_start=zoom)\n",
    "\n",
    "vehicles = []\n",
    "\n",
    "#vehicle capacity\n",
    "capacity = 5\n",
    "\n",
    "vehicles.append({\n",
    "    'id': 1,\n",
    "    'capacity': [capacity],  # Limite di capacita' del Veicolo    \n",
    "    'profile': 'driving-car',\n",
    "    'start': list(reversed(point_start)), # posizione di partenza veicoli\n",
    "    'end': list(reversed(point_start))\n",
    "})\n",
    "mark = folium.Marker(point_start, tooltip=folium.Tooltip(capacity,permanent=True), icon=folium.Icon(icon='truck', prefix='fa', color='blue'))\n",
    "mark.add_to(map1)\n",
    "\n",
    "#vehicle capacity\n",
    "capacity = 5\n",
    "point_startB = [point_start[0] + 0.0015, point_start[1] - 0.0015]\n",
    "\n",
    "vehicles.append({\n",
    "    'id': 1,\n",
    "    'capacity': [capacity],  # Limite di capacita' del Veicolo    \n",
    "    'profile': 'driving-car',\n",
    "    'start': list(reversed(point_startB)), # posizione di partenza veicoli\n",
    "    'end': list(reversed(point_startB))\n",
    "})\n",
    "mark = folium.Marker(point_start, tooltip=folium.Tooltip(capacity,permanent=True), icon=folium.Icon(icon='truck', prefix='fa', color='blue'))\n",
    "mark.add_to(map1)\n",
    "\n",
    "jobs = []\n",
    "for idx, cc in enumerate(job_locs):\n",
    "    loc = list(reversed(cc))\n",
    "    \n",
    "    pickup = random.randrange(1, 3) #random value of bin filling\n",
    "    \n",
    "    mark = folium.Marker(loc, tooltip=folium.Tooltip(pickup, permanent=True), icon=folium.Icon(icon='archive', prefix='fa', color='green'))\n",
    "    mark.add_to(map1)\n",
    "\n",
    "    jobs.append({\n",
    "        'id': idx,\n",
    "        'location': cc,\n",
    "        'pickup': [pickup] # Quantita' contenuta nel Bidone\n",
    "        #priority = [1-100] potrebbe essere utile anche priority\n",
    "        #ma non e' supportato, bug che verra presto risolto https://github.com/GIScience/openrouteservice-py/issues/39\n",
    "    })\n",
    "\n",
    "map1"
   ]
  },
  {
   "cell_type": "code",
   "execution_count": 2,
   "metadata": {
    "scrolled": false
   },
   "outputs": [
    {
     "name": "stdout",
     "output_type": "stream",
     "text": [
      "{\"vehicles\": [{\"id\": 1, \"capacity\": [5], \"profile\": \"driving-car\", \"start\": [11.1066, 46.217], \"end\": [11.1066, 46.217]}, {\"id\": 1, \"capacity\": [5], \"profile\": \"driving-car\", \"start\": [11.1051, 46.2185], \"end\": [11.1051, 46.2185]}], \"jobs\": [{\"id\": 0, \"location\": [11.092028617858887, 46.2173172744161], \"pickup\": [1]}, {\"id\": 1, \"location\": [11.08793020248413, 46.2161294935962], \"pickup\": [1]}, {\"id\": 2, \"location\": [11.091685295104979, 46.21057627744751], \"pickup\": [2]}, {\"id\": 3, \"location\": [11.096470355987549, 46.21344204466888], \"pickup\": [2]}, {\"id\": 4, \"location\": [11.112627983093262, 46.21758452155989], \"pickup\": [2]}, {\"id\": 5, \"location\": [11.118206977844238, 46.214911991592125], \"pickup\": [2]}, {\"id\": 6, \"location\": [11.123356819152832, 46.21419929496722], \"pickup\": [1]}, {\"id\": 7, \"location\": [11.127262115478516, 46.211972058400264], \"pickup\": [2]}, {\"id\": 8, \"location\": [11.122541427612305, 46.20986352455638], \"pickup\": [1]}, {\"id\": 9, \"location\": [11.114301681518555, 46.20900226913922], \"pickup\": [2]}]}\n"
     ]
    }
   ],
   "source": [
    "# PRINT VROOM REQUEST\n",
    "\n",
    "print(json.dumps({'vehicles': vehicles, 'jobs': jobs }))"
   ]
  },
  {
   "cell_type": "code",
   "execution_count": 5,
   "metadata": {
    "scrolled": false
   },
   "outputs": [
    {
     "name": "stdout",
     "output_type": "stream",
     "text": [
      "500\n"
     ]
    },
    {
     "data": {
      "text/plain": [
       "{'code': 3,\n",
       " 'error': 'Request parameters exceed the server configuration limits. Only a total of 100 routes are allowed.'}"
      ]
     },
     "execution_count": 5,
     "metadata": {},
     "output_type": "execute_result"
    }
   ],
   "source": [
    "vroom_url = 'http://vroom:3000/optimization/'\n",
    "\n",
    "params = {\n",
    "    'vehicles': vehicles,\n",
    "    'jobs': jobs,\n",
    "    'geometry': True\n",
    "}\n",
    "resp = requests.post(vroom_url, json = params)\n",
    "\n",
    "print(resp.status_code)\n",
    "\n",
    "solution = resp.json()\n",
    "\n",
    "solution\n",
    "\n"
   ]
  },
  {
   "cell_type": "code",
   "execution_count": null,
   "metadata": {},
   "outputs": [],
   "source": [
    "solutionA = solution['routes'][0]\n",
    "\n",
    "poly = folium.PolyLine(\n",
    "    locations = [list(reversed(coords)) for coords in ors.convert.decode_polyline(solutionA['geometry'])['coordinates']],\n",
    "    color = 'blue',\n",
    "    tooltip = folium.Tooltip('Distance: '+str(solutionA['distance']/1000)+'km', permanent=True)\n",
    ")\n",
    "\n",
    "poly.add_to(map1)\n",
    "\n",
    "map1"
   ]
  },
  {
   "cell_type": "code",
   "execution_count": null,
   "metadata": {},
   "outputs": [],
   "source": [
    "solution"
   ]
  },
  {
   "cell_type": "code",
   "execution_count": null,
   "metadata": {},
   "outputs": [],
   "source": []
  }
 ],
 "metadata": {
  "kernelspec": {
   "display_name": "Python 3",
   "language": "python",
   "name": "python3"
  },
  "language_info": {
   "codemirror_mode": {
    "name": "ipython",
    "version": 3
   },
   "file_extension": ".py",
   "mimetype": "text/x-python",
   "name": "python",
   "nbconvert_exporter": "python",
   "pygments_lexer": "ipython3",
   "version": "3.8.6"
  }
 },
 "nbformat": 4,
 "nbformat_minor": 2
}
